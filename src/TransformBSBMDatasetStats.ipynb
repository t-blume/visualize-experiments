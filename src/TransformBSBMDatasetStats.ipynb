{
 "cells": [
  {
   "cell_type": "code",
   "execution_count": null,
   "metadata": {},
   "outputs": [],
   "source": [
    "import json\n",
    "import os\n",
    "from os import listdir\n",
    "from os.path import isfile, join\n",
    "import pickle\n",
    "import gzip\n",
    "import pandas as pd\n",
    "import matplotlib.pyplot as plt\n",
    "import matplotlib.pylab as pl\n",
    "import matplotlib\n",
    "import tabulate\n",
    "import numpy as np\n",
    "import math\n",
    "\n",
    "import re\n",
    "from itertools import cycle, islice\n",
    "\n"
   ]
  },
  {
   "cell_type": "code",
   "execution_count": null,
   "metadata": {},
   "outputs": [],
   "source": []
  },
  {
   "cell_type": "code",
   "execution_count": null,
   "metadata": {},
   "outputs": [],
   "source": [
    "input_dir = '/data13/tblume/BSBM'\n",
    "\n",
    "out_dir = 'dataset_data/BSBM'\n",
    "\n",
    "if not os.path.isdir(out_dir):\n",
    "    os.makedirs(out_dir)\n",
    "\n",
    "curr_dir = join(out_dir, data_size_dir)\n",
    "onlyfiles = [f for f in listdir(input_dir) if isfile(join(input_dir, f)) and f.endswith(\".txt\") and not f.startswith(\"iteration\") and not f.startswith(\"byte\")]\n",
    "\n",
    "onlyfiles.remove('BSBM-666.nt.gz.txt')\n",
    "onlyfiles.remove('BSBM-2785.nt.gz.txt')\n",
    "onlyfiles.remove('BSBM-70812.nt.gz.txt')\n",
    "onlyfiles.remove('BSBM-284826.nt.gz.txt')\n",
    "\n",
    "\n",
    "def atoi(text):\n",
    "    return int(text) if text.isdigit() else text\n",
    "\n",
    "def natural_keys(text):\n",
    "    '''\n",
    "    alist.sort(key=natural_keys) sorts in human order\n",
    "    http://nedbatchelder.com/blog/200712/human_sorting.html\n",
    "    (See Toothy's implementation in the comments)\n",
    "    '''\n",
    "    return [ atoi(c) for c in re.split(r'(\\d+)', text) ]\n",
    "\n",
    "onlyfiles.sort(key=natural_keys)\n",
    "#onlyfiles = sorted(onlyfiles)\n",
    "\n",
    "display(onlyfiles)\n",
    "\n",
    "\n",
    "first = 0\n",
    "last = (len(onlyfiles) - 1) *2\n",
    "\n",
    "print(last)\n",
    "\n",
    "i = 0\n",
    "for filename in onlyfiles:\n",
    "    f = open(join(input_dir, filename), 'r')\n",
    "    content = f.read()\n",
    "    out = open(join(out_dir,'iteration-' + str(i) + '.txt'), 'w')\n",
    "    out.write(content)\n",
    "    out = open(join(out_dir,'iteration-' + str(last - i) + '.txt'), 'w')\n",
    "    out.write(content)\n",
    "    i = i + 1"
   ]
  },
  {
   "cell_type": "code",
   "execution_count": null,
   "metadata": {},
   "outputs": [],
   "source": []
  },
  {
   "cell_type": "code",
   "execution_count": null,
   "metadata": {},
   "outputs": [],
   "source": []
  }
 ],
 "metadata": {
  "kernelspec": {
   "display_name": "Python 3",
   "language": "python",
   "name": "python3"
  },
  "language_info": {
   "codemirror_mode": {
    "name": "ipython",
    "version": 3
   },
   "file_extension": ".py",
   "mimetype": "text/x-python",
   "name": "python",
   "nbconvert_exporter": "python",
   "pygments_lexer": "ipython3",
   "version": "3.5.2"
  }
 },
 "nbformat": 4,
 "nbformat_minor": 4
}
