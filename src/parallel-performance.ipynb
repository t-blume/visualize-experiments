{
 "cells": [
  {
   "cell_type": "code",
   "execution_count": 1,
   "metadata": {},
   "outputs": [],
   "source": [
    "import json\n",
    "import os\n",
    "from os import listdir\n",
    "from os.path import isfile, join, isdir\n",
    "import pickle\n",
    "import gzip\n",
    "import pandas as pd\n",
    "import matplotlib.pyplot as plt\n",
    "import matplotlib\n",
    "from matplotlib import cm\n",
    "from matplotlib.ticker import LinearLocator, FormatStrFormatter\n",
    "from mpl_toolkits.mplot3d import Axes3D\n",
    "\n",
    "import tabulate\n",
    "import numpy as np\n",
    "import math\n",
    "\n",
    "from itertools import cycle, islice\n",
    "\n",
    "\n",
    "from collect_data import collect_statistics"
   ]
  },
  {
   "cell_type": "code",
   "execution_count": 2,
   "metadata": {},
   "outputs": [],
   "source": [
    "fig_width = 8\n",
    "fig_height = 5\n",
    "\n",
    "params = {\n",
    "    'axes.labelsize': 16, # fontsize for x and y labels (was 10)\n",
    "    'axes.titlesize': 16,\n",
    "    'legend.fontsize': 16, # was 10\n",
    "    'xtick.labelsize': 16,\n",
    "    'ytick.labelsize': 16,\n",
    "    #'text.usetex': True,\n",
    "    'figure.figsize': [fig_width,fig_height],\n",
    "    'font.family': 'serif',\n",
    "    'grid.linestyle': '--',\n",
    "    'lines.linewidth': 2\n",
    "}\n",
    "\n",
    "matplotlib.rcParams.update(params)"
   ]
  },
  {
   "cell_type": "code",
   "execution_count": 22,
   "metadata": {},
   "outputs": [],
   "source": [
    "out_dir = join('..', 'plots', 'parallelization_exp')\n",
    "event_dir = join('..', 'data', 'spark_logs-parallelization_exp')\n",
    "memory_dir = join(event_dir, 'spark-memory')\n",
    "exp_log_dir = join('..', 'data', 'exp_logs-parallelizaton_exp', 'experiments')"
   ]
  },
  {
   "cell_type": "code",
   "execution_count": 33,
   "metadata": {},
   "outputs": [],
   "source": [
    "appname = 'LUBM'\n",
    "data_size_dir = 'LUBM'\n",
    "collections = ['schemex', 'attribute', 'type']\n",
    "suffix = ''\n",
    "hide_legend = False\n",
    "\n",
    "appname = 'BSBM'\n",
    "data_size_dir = 'BSBM'\n",
    "collections = ['schemex'] #, 'attribute', 'type'\n",
    "parallizations = ['parallel_1', 'parallel_2', 'parallel_4', 'parallel_8', 'parallel_16']\n",
    "#parallizations = ['parallel_16', 'parallel_8', 'parallel_4', 'parallel_2', 'parallel_1']\n",
    "\n",
    "suffix = '-test-2'\n",
    "hide_legend = False\n",
    "# BSBM_attribute-parallel_1-test-1-performance.csv'\n",
    "\n",
    "# BSBM-attribute-parallel_1-test-1-performance.csv\n",
    "\n",
    "\n",
    "#appname = 'dyldo_y2019_full'\n",
    "#data_size_dir = 'DyLDO-ext'\n",
    "#collections =['schemex', 'attribute', 'type']\n",
    "#suffix = ''\n",
    "#hide_legend = True\n",
    "\"\"\"\n",
    "\n",
    "appname = 'DyLDO-core'\n",
    "data_size_dir = 'DyLDO-core'\n",
    "collections = ['type']\n",
    "parallizations = ['parallel_1', 'parallel_2', 'parallel_4', 'parallel_8', 'parallel_16']\n",
    "suffix = '-test-2'\n",
    "hide_legend = False\n",
    "\"\"\"\n",
    "\n",
    "\n",
    "ticks = 5.0\n",
    "interpolate = True"
   ]
  },
  {
   "cell_type": "code",
   "execution_count": null,
   "metadata": {},
   "outputs": [],
   "source": []
  },
  {
   "cell_type": "code",
   "execution_count": 34,
   "metadata": {},
   "outputs": [
    {
     "data": {
      "text/html": [
       "<div>\n",
       "<style scoped>\n",
       "    .dataframe tbody tr th:only-of-type {\n",
       "        vertical-align: middle;\n",
       "    }\n",
       "\n",
       "    .dataframe tbody tr th {\n",
       "        vertical-align: top;\n",
       "    }\n",
       "\n",
       "    .dataframe thead th {\n",
       "        text-align: right;\n",
       "    }\n",
       "</style>\n",
       "<table border=\"1\" class=\"dataframe\">\n",
       "  <thead>\n",
       "    <tr style=\"text-align: right;\">\n",
       "      <th></th>\n",
       "      <th>schemex-parallel_1-Inc</th>\n",
       "      <th>schemex-parallel_1-Batch</th>\n",
       "      <th>schemex-parallel_2-Inc</th>\n",
       "      <th>schemex-parallel_2-Batch</th>\n",
       "      <th>schemex-parallel_4-Inc</th>\n",
       "      <th>schemex-parallel_4-Batch</th>\n",
       "      <th>schemex-parallel_8-Inc</th>\n",
       "      <th>schemex-parallel_8-Batch</th>\n",
       "      <th>schemex-parallel_16-Inc</th>\n",
       "      <th>schemex-parallel_16-Batch</th>\n",
       "    </tr>\n",
       "    <tr>\n",
       "      <th>Iteration</th>\n",
       "      <th></th>\n",
       "      <th></th>\n",
       "      <th></th>\n",
       "      <th></th>\n",
       "      <th></th>\n",
       "      <th></th>\n",
       "      <th></th>\n",
       "      <th></th>\n",
       "      <th></th>\n",
       "      <th></th>\n",
       "    </tr>\n",
       "  </thead>\n",
       "  <tbody>\n",
       "    <tr>\n",
       "      <th>0</th>\n",
       "      <td>0.312150</td>\n",
       "      <td>0.277333</td>\n",
       "      <td>0.210533</td>\n",
       "      <td>0.190150</td>\n",
       "      <td>0.164967</td>\n",
       "      <td>0.141167</td>\n",
       "      <td>0.171183</td>\n",
       "      <td>0.147617</td>\n",
       "      <td>0.175150</td>\n",
       "      <td>0.144583</td>\n",
       "    </tr>\n",
       "    <tr>\n",
       "      <th>1</th>\n",
       "      <td>3.141150</td>\n",
       "      <td>2.775567</td>\n",
       "      <td>2.126717</td>\n",
       "      <td>1.957767</td>\n",
       "      <td>1.650733</td>\n",
       "      <td>1.565733</td>\n",
       "      <td>1.664633</td>\n",
       "      <td>1.620983</td>\n",
       "      <td>1.682117</td>\n",
       "      <td>1.511933</td>\n",
       "    </tr>\n",
       "    <tr>\n",
       "      <th>2</th>\n",
       "      <td>6.800850</td>\n",
       "      <td>5.427267</td>\n",
       "      <td>5.079767</td>\n",
       "      <td>3.982233</td>\n",
       "      <td>4.100217</td>\n",
       "      <td>3.045467</td>\n",
       "      <td>4.194950</td>\n",
       "      <td>3.118817</td>\n",
       "      <td>4.448700</td>\n",
       "      <td>3.229833</td>\n",
       "    </tr>\n",
       "    <tr>\n",
       "      <th>3</th>\n",
       "      <td>13.556200</td>\n",
       "      <td>10.056533</td>\n",
       "      <td>11.168050</td>\n",
       "      <td>7.880033</td>\n",
       "      <td>9.574250</td>\n",
       "      <td>6.522300</td>\n",
       "      <td>9.558700</td>\n",
       "      <td>7.172033</td>\n",
       "      <td>9.639433</td>\n",
       "      <td>6.782400</td>\n",
       "    </tr>\n",
       "    <tr>\n",
       "      <th>4</th>\n",
       "      <td>8.813967</td>\n",
       "      <td>12.658800</td>\n",
       "      <td>5.964033</td>\n",
       "      <td>9.562500</td>\n",
       "      <td>4.334767</td>\n",
       "      <td>8.260000</td>\n",
       "      <td>4.483467</td>\n",
       "      <td>7.796433</td>\n",
       "      <td>4.606617</td>\n",
       "      <td>8.281217</td>\n",
       "    </tr>\n",
       "  </tbody>\n",
       "</table>\n",
       "</div>"
      ],
      "text/plain": [
       "           schemex-parallel_1-Inc  schemex-parallel_1-Batch  \\\n",
       "Iteration                                                     \n",
       "0                        0.312150                  0.277333   \n",
       "1                        3.141150                  2.775567   \n",
       "2                        6.800850                  5.427267   \n",
       "3                       13.556200                 10.056533   \n",
       "4                        8.813967                 12.658800   \n",
       "\n",
       "           schemex-parallel_2-Inc  schemex-parallel_2-Batch  \\\n",
       "Iteration                                                     \n",
       "0                        0.210533                  0.190150   \n",
       "1                        2.126717                  1.957767   \n",
       "2                        5.079767                  3.982233   \n",
       "3                       11.168050                  7.880033   \n",
       "4                        5.964033                  9.562500   \n",
       "\n",
       "           schemex-parallel_4-Inc  schemex-parallel_4-Batch  \\\n",
       "Iteration                                                     \n",
       "0                        0.164967                  0.141167   \n",
       "1                        1.650733                  1.565733   \n",
       "2                        4.100217                  3.045467   \n",
       "3                        9.574250                  6.522300   \n",
       "4                        4.334767                  8.260000   \n",
       "\n",
       "           schemex-parallel_8-Inc  schemex-parallel_8-Batch  \\\n",
       "Iteration                                                     \n",
       "0                        0.171183                  0.147617   \n",
       "1                        1.664633                  1.620983   \n",
       "2                        4.194950                  3.118817   \n",
       "3                        9.558700                  7.172033   \n",
       "4                        4.483467                  7.796433   \n",
       "\n",
       "           schemex-parallel_16-Inc  schemex-parallel_16-Batch  \n",
       "Iteration                                                      \n",
       "0                         0.175150                   0.144583  \n",
       "1                         1.682117                   1.511933  \n",
       "2                         4.448700                   3.229833  \n",
       "3                         9.639433                   6.782400  \n",
       "4                         4.606617                   8.281217  "
      ]
     },
     "metadata": {},
     "output_type": "display_data"
    },
    {
     "data": {
      "text/html": [
       "<div>\n",
       "<style scoped>\n",
       "    .dataframe tbody tr th:only-of-type {\n",
       "        vertical-align: middle;\n",
       "    }\n",
       "\n",
       "    .dataframe tbody tr th {\n",
       "        vertical-align: top;\n",
       "    }\n",
       "\n",
       "    .dataframe thead th {\n",
       "        text-align: right;\n",
       "    }\n",
       "</style>\n",
       "<table border=\"1\" class=\"dataframe\">\n",
       "  <thead>\n",
       "    <tr style=\"text-align: right;\">\n",
       "      <th></th>\n",
       "    </tr>\n",
       "  </thead>\n",
       "  <tbody>\n",
       "  </tbody>\n",
       "</table>\n",
       "</div>"
      ],
      "text/plain": [
       "Empty DataFrame\n",
       "Columns: []\n",
       "Index: []"
      ]
     },
     "metadata": {},
     "output_type": "display_data"
    }
   ],
   "source": [
    "iterations = 0\n",
    "\n",
    "performance_frame = pd.DataFrame() \n",
    "run_details_frame = pd.DataFrame()\n",
    "for collection in collections:\n",
    "#    new_zero_incr = 0\n",
    "#    new_zero_batch = 0\n",
    "    for parallelization in parallizations:\n",
    "        # def collectStatistics(analyze_app, event_dir='/tmp/spark-events', memory_dir='/tmp/spark-memory'):   \n",
    "        '''\n",
    "        df = collect_statistics(appname+'-'+collection+'-'+parallelization+suffix, \n",
    "                               event_dir=event_dir, \n",
    "                               memory_dir=memory_dir) \n",
    "        '''\n",
    "        # BSBM-type-parallel_1-test-1\n",
    "        app_exp_name = appname + '-'+collection+'-'+parallelization+suffix\n",
    "        with open(os.path.join(exp_log_dir, app_exp_name, app_exp_name+'-performance.csv'), 'r') as f:\n",
    "            df = pd.read_csv(f, sep=',')\n",
    "            #display(df.head())\n",
    "            iterations = max(iterations, len(df['Iteration']))\n",
    "            df = df.set_index('Iteration')\n",
    "\n",
    "            performance_frame[collection+'-'+parallelization+'-Inc'] = df['Incremental Duration']\n",
    "            performance_frame[collection+'-'+parallelization+'-Batch'] = df['Batch Duration']\n",
    "            '''\n",
    "            run_details_frame[collection+'-'+parallelization+'-Inc'] = df['Incremental Duration']\n",
    "            run_details_frame[collection+'-'+parallelization+'-Batch'] = df['Batch Duration']\n",
    "            run_details_frame[collection+'-'+parallelization+'-Inc F&M'] = df['Incremental F&M Duration']\n",
    "            run_details_frame[collection+'-'+parallelization+'-Batch F&M'] = df['Batch F&M Duration']        \n",
    "            '''\n",
    "    \n",
    "\n",
    "#performance_frame.columns = ['SchemEX:Incr', 'SchemEX:Batch', \n",
    "#             'AttrColl:Incr', 'AttrColl:Batch',\n",
    "#             'TypeColl:Incr', 'TypeColl:Batch']\n",
    " \n",
    "convert = lambda x: x / 1000 / 60\n",
    "performance_frame = performance_frame.applymap(convert)  \n",
    "run_details_frame = run_details_frame.applymap(convert)\n",
    "\n",
    "display(performance_frame.head())\n",
    "display(run_details_frame.head())\n",
    "\n",
    "if (appname == 'dyldo_y2019_core' or appname == 'DyLDO-core') and len(performance_frame) > 23:\n",
    "    performance_frame = performance_frame.drop(performance_frame.index[[21,22]])\n",
    "    run_details_frame = run_details_frame.drop(run_details_frame.index[[21,22]])\n",
    "    \n",
    "if appname == 'dyldo_y2019_full':\n",
    "    performance_frame = performance_frame.head()\n",
    "    run_details_frame = run_details_frame.head()\n",
    "    iterations = 5\n",
    "    ticks = 1.0\n",
    "    print('drop the beat')\n",
    " "
   ]
  },
  {
   "cell_type": "code",
   "execution_count": 35,
   "metadata": {},
   "outputs": [
    {
     "name": "stdout",
     "output_type": "stream",
     "text": [
      "0.31215\n",
      "10\n"
     ]
    },
    {
     "data": {
      "text/plain": [
       "[(0, 'darkslateblue'), (10, 'forestgreen'), (16, 'indianred')]"
      ]
     },
     "metadata": {},
     "output_type": "display_data"
    },
    {
     "data": {
      "text/plain": [
       "(0, 10, 16)"
      ]
     },
     "metadata": {},
     "output_type": "display_data"
    },
    {
     "data": {
      "text/plain": [
       "('darkslateblue', 'forestgreen', 'indianred')"
      ]
     },
     "metadata": {},
     "output_type": "display_data"
    },
    {
     "data": {
      "image/png": "[encoded data removed]",
      "text/plain": [
       "<Figure size 576x360 with 1 Axes>"
      ]
     },
     "metadata": {
      "needs_background": "light"
     },
     "output_type": "display_data"
    },
    {
     "name": "stdout",
     "output_type": "stream",
     "text": [
      "0.26616666666666666\n",
      "10\n"
     ]
    },
    {
     "data": {
      "text/plain": [
       "[(10, 'forestgreen'), (20, 'indianred'), (40, 'darkslateblue')]"
      ]
     },
     "metadata": {},
     "output_type": "display_data"
    },
    {
     "data": {
      "text/plain": [
       "(10, 20, 40)"
      ]
     },
     "metadata": {},
     "output_type": "display_data"
    },
    {
     "data": {
      "text/plain": [
       "('forestgreen', 'indianred', 'darkslateblue')"
      ]
     },
     "metadata": {},
     "output_type": "display_data"
    },
    {
     "data": {
      "image/png": "[encoded data removed]",
      "text/plain": [
       "<Figure size 576x360 with 1 Axes>"
      ]
     },
     "metadata": {
      "needs_background": "light"
     },
     "output_type": "display_data"
    }
   ],
   "source": [
    "#box = dict(facecolor='white', pad=5, alpha=0.2)\n",
    "\n",
    "\n",
    "def my_3d_plot(x, y, values, plot_name, z_lim=None, save_dir=None):\n",
    "    y_offset = 5\n",
    "    \n",
    "    # prepare data   \n",
    "    X, Y = np.meshgrid(x, y)\n",
    "    Z = np.transpose(np.array(values))\n",
    "    \n",
    "    \n",
    "    fig = plt.figure()\n",
    "    ax = Axes3D(fig)\n",
    "      \n",
    "    # plot the data\n",
    "    surf = ax.plot_surface(X, Y, Z, rstride=1, cstride=1, linewidth=0, antialiased=True)\n",
    "    \n",
    "    # add contour lines for readability\n",
    "    print(np.min(values[0]))\n",
    "    min_index = np.argmin(values[0])\n",
    "    max_index = np.argmax(values[0])\n",
    "    \n",
    "    median_index = list(values[0]).index(np.percentile(values[0], 50, interpolation='nearest'))\n",
    "\n",
    "    print(median_index)\n",
    "    lvls = [min_index, median_index, max_index]\n",
    "    colors = ['darkslateblue', 'forestgreen', 'indianred']\n",
    "    temp = list(zip(lvls, colors))\n",
    "    temp.sort(key=lambda x: x[0])\n",
    "    display(temp)\n",
    "    lvls, colors = zip(*temp)\n",
    "    display(lvls)\n",
    "    display(colors)\n",
    "    \n",
    "    # TODO: 40 is not displayed properly\n",
    "    if lvls[2] == 40:\n",
    "        lvls = list(lvls)\n",
    "        lvls[2] = 39\n",
    "    #lvls = [20,30,39]\n",
    "    cset = ax.contour(X, Y, Z, zdir='y', levels=lvls, offset=-y_offset, colors=colors)\n",
    "\n",
    "    ax.zaxis.set_major_formatter(FormatStrFormatter('%.0f'))\n",
    "\n",
    "    #fig.colorbar(surf, shrink=0.5, aspect=5)\n",
    "    plt.title(plot_name)\n",
    "    plt.xticks(x)\n",
    "    ax.view_init(30, 25)\n",
    "    \n",
    "    if z_lim:\n",
    "        ax.set_zlim([0, z_lim])\n",
    "\n",
    "    #ax.set_ylim([-y_offset, len(y)+y_offset])\n",
    "    ax.set_ylim([-y_offset, len(y)+y_offset])\n",
    "    \n",
    "    ax.set_xlabel(\"Available cores\", labelpad=10)\n",
    "    ax.set_ylabel(\"GDB version\", labelpad=10)\n",
    "\n",
    "    ax.zaxis.set_rotate_label(False)  # disable automatic rotation\n",
    "    ax.set_zlabel(\"Duration (minutes)\", rotation=90, labelpad=10)\n",
    "    \n",
    "    #fig.colorbar.remove()\n",
    "    \n",
    "    if save_dir:\n",
    "        plt.savefig(save_dir + '/' + plot_name.replace(' ', '-') + '-parallel.pdf',  bbox_inches='tight')\n",
    "        plt.savefig(save_dir + '/' + plot_name.replace(' ', '-') + '-parallel.png',  bbox_inches='tight', dpi=300)\n",
    "        \n",
    "    plt.show()\n",
    "\n",
    "\n",
    "for collection in collections:\n",
    "    values_incr = []\n",
    "    values_batch = []\n",
    "    for parallelization in parallizations:\n",
    "        values_incr.append(np.array(performance_frame[collection+'-'+parallelization+'-Inc']))\n",
    "        values_batch.append(np.array(performance_frame[collection+'-'+parallelization+'-Batch']))\n",
    "        \n",
    "    ## TODO parameterize\n",
    "    x = [1,2,4,8,16] #\n",
    "    y = np.arange(0, len(performance_frame), 1) # 41\n",
    "\n",
    "    z_lim = performance_frame.max().max()\n",
    "    z_lim += z_lim/10\n",
    "    z_lim = 5 * round(z_lim/5)\n",
    "\n",
    "    #my_3d_plot(x, y, values_incr, '%s %s Incr' % (appname, collection), z_lim=60, save_dir=out_dir)\n",
    "    my_3d_plot(x, y, values_incr, '%s %s Incr' % (appname, collection), save_dir=out_dir)\n",
    "    \n",
    "    #my_3d_plot(x, y, values_batch, '%s %s Batch' % (appname, collection), z_lim=60, save_dir=out_dir)\n",
    "    my_3d_plot(x, y, values_batch, '%s %s Batch' % (appname, collection), save_dir=out_dir)\n",
    "\n",
    "\n",
    "#     for angle in range(0, 360):\n",
    "#         ax.view_init(30, angle)\n",
    "#         plt.draw()\n",
    "#         plt.pause(.001)\n"
   ]
  },
  {
   "cell_type": "code",
   "execution_count": 7,
   "metadata": {},
   "outputs": [],
   "source": [
    "def deduplicate(input_list):\n",
    "    seen = set()\n",
    "    new_list = []\n",
    "    for item in input_list:\n",
    "        if item not in seen:\n",
    "            new_list.append(item)\n",
    "            seen.add(item)\n",
    "    return new_list\n"
   ]
  },
  {
   "cell_type": "code",
   "execution_count": 8,
   "metadata": {},
   "outputs": [
    {
     "name": "stdout",
     "output_type": "stream",
     "text": [
      "batch runs faster than incremental for attribute-parallel_1: 0\n",
      "batch runs faster than incremental for attribute-parallel_2: 0\n",
      "batch runs faster than incremental for attribute-parallel_4: 0\n",
      "batch runs faster than incremental for attribute-parallel_8: 1\n",
      "batch runs faster than incremental for attribute-parallel_16: 3\n"
     ]
    },
    {
     "data": {
      "text/plain": [
       "attribute-parallel_1     1.440052\n",
       "attribute-parallel_2     1.826764\n",
       "attribute-parallel_4     1.464468\n",
       "attribute-parallel_8     1.162826\n",
       "attribute-parallel_16    1.068840\n",
       "dtype: float64"
      ]
     },
     "metadata": {},
     "output_type": "display_data"
    },
    {
     "data": {
      "text/plain": [
       "attribute-parallel_1     0.050394\n",
       "attribute-parallel_2     0.304808\n",
       "attribute-parallel_4     0.081707\n",
       "attribute-parallel_8     0.049375\n",
       "attribute-parallel_16    0.042953\n",
       "dtype: float64"
      ]
     },
     "metadata": {},
     "output_type": "display_data"
    },
    {
     "data": {
      "text/plain": [
       "1.0688399013235144"
      ]
     },
     "metadata": {},
     "output_type": "display_data"
    },
    {
     "data": {
      "text/plain": [
       "1.8267636241144851"
      ]
     },
     "metadata": {},
     "output_type": "display_data"
    }
   ],
   "source": [
    "# some speed-up analysis\n",
    "#display(performance_frame)\n",
    "speed_up_frame = pd.DataFrame(columns=deduplicate([x.replace('-Inc', '').replace('-Batch', '') for x in performance_frame.columns]))\n",
    "\n",
    "for collection in collections:\n",
    "    for parallelization in parallizations:\n",
    "        speed_up_frame[collection+'-'+parallelization] = performance_frame[collection+'-'+parallelization+'-Batch'] /performance_frame[collection+'-'+parallelization+'-Inc']\n",
    "        print('batch runs faster than incremental for %s: %s' % (collection+'-'+parallelization, (speed_up_frame[collection+'-'+parallelization] < 1.0).sum()))\n",
    "\n",
    "display(speed_up_frame.mean())\n",
    "display(speed_up_frame.std())    \n",
    "display(speed_up_frame.mean().min())\n",
    "display(speed_up_frame.mean().max())  "
   ]
  },
  {
   "cell_type": "code",
   "execution_count": 9,
   "metadata": {},
   "outputs": [],
   "source": [
    "t1 = (performance_frame['attribute-parallel_1-Batch'] /performance_frame['attribute-parallel_1-Inc']).mean()\n",
    "t2 = (performance_frame['attribute-parallel_1-Batch'].sum() /performance_frame['attribute-parallel_1-Inc'].sum())"
   ]
  },
  {
   "cell_type": "code",
   "execution_count": 10,
   "metadata": {},
   "outputs": [
    {
     "data": {
      "text/plain": [
       "1.440051708050351"
      ]
     },
     "metadata": {},
     "output_type": "display_data"
    },
    {
     "data": {
      "text/plain": [
       "1.4408311354606362"
      ]
     },
     "metadata": {},
     "output_type": "display_data"
    }
   ],
   "source": [
    "display(t1)\n",
    "display(t2)"
   ]
  },
  {
   "cell_type": "code",
   "execution_count": 11,
   "metadata": {},
   "outputs": [
    {
     "name": "stdout",
     "output_type": "stream",
     "text": [
      "parallel_1 - Micro Avg: 1.44\n",
      "parallel_1 - Macro Avg: 1.44\n",
      "parallel_2 - Micro Avg: 1.86\n",
      "parallel_2 - Macro Avg: 1.83\n",
      "parallel_4 - Micro Avg: 1.48\n",
      "parallel_4 - Macro Avg: 1.46\n",
      "parallel_8 - Micro Avg: 1.17\n",
      "parallel_8 - Macro Avg: 1.16\n",
      "parallel_16 - Micro Avg: 1.07\n",
      "parallel_16 - Macro Avg: 1.07\n"
     ]
    }
   ],
   "source": [
    "for collection in collections:\n",
    "    for parallelization in parallizations:\n",
    "        macro_avg = (performance_frame['%s-%s-Batch' % (collection, parallelization)] / performance_frame['%s-%s-Inc'  % (collection, parallelization)]).mean()\n",
    "        micro_avg = (performance_frame['%s-%s-Batch' % (collection, parallelization)].sum() / performance_frame['%s-%s-Inc'  % (collection, parallelization)].sum())\n",
    "        print('%s - Micro Avg: %s' % (parallelization, micro_avg.round(2)))\n",
    "        print('%s - Macro Avg: %s' % (parallelization, macro_avg.round(2)))"
   ]
  },
  {
   "cell_type": "code",
   "execution_count": 12,
   "metadata": {},
   "outputs": [],
   "source": [
    "# print((all_frame['batch'] / all_frame['incr']).mean())\n",
    "# print(all_frame['batch'].sum() / all_frame['incr'].sum())"
   ]
  },
  {
   "cell_type": "code",
   "execution_count": 13,
   "metadata": {},
   "outputs": [
    {
     "name": "stdout",
     "output_type": "stream",
     "text": [
      "attribute-parallel_1-Batch has faster runs than baseline? 0\n",
      "attribute-parallel_2-Batch has faster runs than baseline? 9\n",
      "attribute-parallel_4-Batch has faster runs than baseline? 41\n",
      "attribute-parallel_8-Batch has faster runs than baseline? 41\n",
      "attribute-parallel_16-Batch has faster runs than baseline? 41\n"
     ]
    }
   ],
   "source": [
    "for col in performance_frame.columns:\n",
    "    if 'parallel_1-Inc' in col:\n",
    "        #baseline\n",
    "        baseline = performance_frame[col]\n",
    "    elif '-Batch' in col:\n",
    "        print('%s has faster runs than baseline? %s' % (col, (performance_frame[col] - baseline < 0).sum()))\n",
    "        "
   ]
  },
  {
   "cell_type": "code",
   "execution_count": 14,
   "metadata": {},
   "outputs": [
    {
     "data": {
      "text/plain": [
       "attribute-parallel_2-Batch     1.251550\n",
       "attribute-parallel_2-Inc       1.549479\n",
       "attribute-parallel_4-Batch     1.748837\n",
       "attribute-parallel_4-Inc       1.404745\n",
       "attribute-parallel_8-Batch     1.240013\n",
       "attribute-parallel_8-Inc       0.984821\n",
       "attribute-parallel_16-Batch    0.984149\n",
       "attribute-parallel_16-Inc      0.904780\n",
       "dtype: float64"
      ]
     },
     "metadata": {},
     "output_type": "display_data"
    },
    {
     "data": {
      "text/plain": [
       "attribute-parallel_2-Batch     0.203753\n",
       "attribute-parallel_2-Inc       0.091678\n",
       "attribute-parallel_4-Batch     0.264972\n",
       "attribute-parallel_4-Inc       0.060656\n",
       "attribute-parallel_8-Batch     0.049788\n",
       "attribute-parallel_8-Inc       0.023703\n",
       "attribute-parallel_16-Batch    0.030420\n",
       "attribute-parallel_16-Inc      0.029302\n",
       "dtype: float64"
      ]
     },
     "metadata": {},
     "output_type": "display_data"
    }
   ],
   "source": [
    "parallelization_frame = pd.DataFrame()\n",
    "for collection in collections:\n",
    "    for i in range(1, len(parallizations)):\n",
    "        prev = parallizations[i-1]\n",
    "        current = parallizations[i]\n",
    "        parallelization_frame[collection+'-'+current+'-Batch'] = performance_frame[collection+'-'+prev+'-Batch'] / performance_frame[collection+'-'+current+'-Batch'] \n",
    "        parallelization_frame[collection+'-'+current+'-Inc'] = performance_frame[collection+'-'+prev+'-Inc'] / performance_frame[collection+'-'+current+'-Inc'] \n",
    "            \n",
    "display(parallelization_frame.mean())\n",
    "display(parallelization_frame.std())"
   ]
  },
  {
   "cell_type": "code",
   "execution_count": 15,
   "metadata": {},
   "outputs": [
    {
     "name": "stdout",
     "output_type": "stream",
     "text": [
      "Speed-up batch 1 to 16 between 2.4084 and 2.7197 (mean: 2.6055 +- 0.0718)\n",
      "Speed-up incr. 1 to 16 between 1.8324 and 2.2153 (mean: 1.9399 +- 0.0679)\n"
     ]
    }
   ],
   "source": [
    "# overall gain:\n",
    "skip_rows = 1\n",
    "\n",
    "t_frame = performance_frame[collection+'-parallel_1-Batch'] / performance_frame[collection+'-parallel_16-Batch']\n",
    "print('Speed-up batch 1 to 16 between %.4f and %.4f (mean: %.4f +- %.4f)' % (t_frame.min(), t_frame.max(), t_frame.mean(), t_frame.std()))\n",
    "\n",
    "\n",
    "t_frame = performance_frame.iloc[skip_rows:][collection+'-parallel_1-Inc'] / performance_frame.iloc[skip_rows:][collection+'-parallel_16-Inc']\n",
    "print('Speed-up incr. 1 to 16 between %.4f and %.4f (mean: %.4f +- %.4f)' % (t_frame.min(), t_frame.max(), t_frame.mean(), t_frame.std()))\n"
   ]
  },
  {
   "cell_type": "code",
   "execution_count": 16,
   "metadata": {},
   "outputs": [
    {
     "name": "stdout",
     "output_type": "stream",
     "text": [
      "Speed-up incr. 1 to batch 16 between 0.4821 and 0.6125 (mean: 0.5533 +- 0.0214)\n"
     ]
    }
   ],
   "source": [
    "# one core incr. vs 16 core batch\n",
    "\n",
    "t_frame = performance_frame.iloc[skip_rows:][collection+'-parallel_16-Batch'] / performance_frame.iloc[skip_rows:][collection+'-parallel_1-Inc']\n",
    "print('Speed-up incr. 1 to batch 16 between %.4f and %.4f (mean: %.4f +- %.4f)' % (t_frame.min(), t_frame.max(), t_frame.mean(), t_frame.std()))\n",
    "\n"
   ]
  },
  {
   "cell_type": "code",
   "execution_count": 17,
   "metadata": {},
   "outputs": [
    {
     "data": {
      "text/plain": [
       "attribute-parallel_1-Inc       19.931265\n",
       "attribute-parallel_1-Batch     28.717868\n",
       "attribute-parallel_2-Inc       12.810110\n",
       "attribute-parallel_2-Batch     23.798361\n",
       "attribute-parallel_4-Inc        9.134642\n",
       "attribute-parallel_4-Batch     13.536546\n",
       "attribute-parallel_8-Inc        9.279867\n",
       "attribute-parallel_8-Batch     10.828643\n",
       "attribute-parallel_16-Inc      10.292899\n",
       "attribute-parallel_16-Batch    11.002045\n",
       "dtype: float64"
      ]
     },
     "metadata": {},
     "output_type": "display_data"
    },
    {
     "data": {
      "text/plain": [
       "attribute-parallel_1-Inc       11.664395\n",
       "attribute-parallel_1-Batch     16.805436\n",
       "attribute-parallel_2-Inc        7.471113\n",
       "attribute-parallel_2-Batch     14.549183\n",
       "attribute-parallel_4-Inc        5.332365\n",
       "attribute-parallel_4-Batch      7.903124\n",
       "attribute-parallel_8-Inc        5.411941\n",
       "attribute-parallel_8-Batch      6.276385\n",
       "attribute-parallel_16-Inc       6.021954\n",
       "attribute-parallel_16-Batch     6.396821\n",
       "dtype: float64"
      ]
     },
     "metadata": {},
     "output_type": "display_data"
    },
    {
     "data": {
      "text/plain": [
       "attribute-parallel_1-Inc       0.204033\n",
       "attribute-parallel_1-Batch     0.324450\n",
       "attribute-parallel_2-Inc       0.159017\n",
       "attribute-parallel_2-Batch     0.240750\n",
       "attribute-parallel_4-Inc       0.110817\n",
       "attribute-parallel_4-Batch     0.145550\n",
       "attribute-parallel_8-Inc       0.107667\n",
       "attribute-parallel_8-Batch     0.126500\n",
       "attribute-parallel_16-Inc      0.110383\n",
       "attribute-parallel_16-Batch    0.124967\n",
       "dtype: float64"
      ]
     },
     "metadata": {},
     "output_type": "display_data"
    },
    {
     "data": {
      "text/plain": [
       "attribute-parallel_1-Inc       39.532850\n",
       "attribute-parallel_1-Batch     56.877983\n",
       "attribute-parallel_2-Inc       25.207267\n",
       "attribute-parallel_2-Batch     53.154600\n",
       "attribute-parallel_4-Inc       18.206100\n",
       "attribute-parallel_4-Batch     27.333667\n",
       "attribute-parallel_8-Inc       18.240933\n",
       "attribute-parallel_8-Batch     21.304617\n",
       "attribute-parallel_16-Inc      20.310200\n",
       "attribute-parallel_16-Batch    21.651550\n",
       "dtype: float64"
      ]
     },
     "metadata": {},
     "output_type": "display_data"
    }
   ],
   "source": [
    "display(performance_frame.iloc[skip_rows:].mean())\n",
    "display(performance_frame.iloc[skip_rows:].std())\n",
    "display(performance_frame.iloc[skip_rows:].min())\n",
    "display(performance_frame.iloc[skip_rows:].max())"
   ]
  },
  {
   "cell_type": "code",
   "execution_count": 18,
   "metadata": {},
   "outputs": [
    {
     "data": {
      "text/html": [
       "<div>\n",
       "<style scoped>\n",
       "    .dataframe tbody tr th:only-of-type {\n",
       "        vertical-align: middle;\n",
       "    }\n",
       "\n",
       "    .dataframe tbody tr th {\n",
       "        vertical-align: top;\n",
       "    }\n",
       "\n",
       "    .dataframe thead tr th {\n",
       "        text-align: left;\n",
       "    }\n",
       "</style>\n",
       "<table border=\"1\" class=\"dataframe\">\n",
       "  <thead>\n",
       "    <tr>\n",
       "      <th></th>\n",
       "      <th colspan=\"2\" halign=\"left\">1</th>\n",
       "      <th colspan=\"2\" halign=\"left\">2</th>\n",
       "      <th colspan=\"2\" halign=\"left\">4</th>\n",
       "      <th colspan=\"2\" halign=\"left\">8</th>\n",
       "      <th colspan=\"2\" halign=\"left\">16</th>\n",
       "    </tr>\n",
       "    <tr>\n",
       "      <th></th>\n",
       "      <th>incr.</th>\n",
       "      <th>batch</th>\n",
       "      <th>incr.</th>\n",
       "      <th>batch</th>\n",
       "      <th>incr.</th>\n",
       "      <th>batch</th>\n",
       "      <th>incr.</th>\n",
       "      <th>batch</th>\n",
       "      <th>incr.</th>\n",
       "      <th>batch</th>\n",
       "    </tr>\n",
       "  </thead>\n",
       "  <tbody>\n",
       "  </tbody>\n",
       "</table>\n",
       "</div>"
      ],
      "text/plain": [
       "Empty DataFrame\n",
       "Columns: [(1, incr.), (1, batch), (2, incr.), (2, batch), (4, incr.), (4, batch), (8, incr.), (8, batch), (16, incr.), (16, batch)]\n",
       "Index: []"
      ]
     },
     "execution_count": 18,
     "metadata": {},
     "output_type": "execute_result"
    }
   ],
   "source": [
    "mux = pd.MultiIndex.from_product([['1','2','4', '8', '16'], ['incr.','batch']])\n",
    "df = pd.DataFrame(columns=mux)\n",
    "df"
   ]
  },
  {
   "cell_type": "code",
   "execution_count": 19,
   "metadata": {},
   "outputs": [
    {
     "data": {
      "text/plain": [
       "1   incr.    19.452683\n",
       "    batch    28.027317\n",
       "2   incr.    12.502927\n",
       "    batch    23.224146\n",
       "4   incr.     8.915366\n",
       "    batch    13.210000\n",
       "8   incr.     9.057317\n",
       "    batch    10.567561\n",
       "16  incr.    10.046341\n",
       "    batch    10.737805\n",
       "dtype: float64"
      ]
     },
     "metadata": {},
     "output_type": "display_data"
    }
   ],
   "source": [
    "latex_frame = performance_frame.copy()\n",
    "latex_frame.columns = ['1 core incr.', '1 core batch',\n",
    "                       '2 core incr.', '2 core batch',\n",
    "                       '4 core incr.', '4 core batch',\n",
    "                       '8 core incr.', '8 core batch',\n",
    "                       '16 core incr.', '16 core batch']\n",
    "latex_frame.columns = mux\n",
    "latex_frame.index.rename('GDB Version', True)\n",
    "latex_frame = latex_frame.round(2)\n",
    "display(latex_frame.mean())"
   ]
  },
  {
   "cell_type": "code",
   "execution_count": 20,
   "metadata": {},
   "outputs": [
    {
     "name": "stdout",
     "output_type": "stream",
     "text": [
      "\\begin{tabular}{lrrrrrrrrrr}\n",
      "\\toprule\n",
      "{} & \\multicolumn{2}{l}{1} & \\multicolumn{2}{l}{2} & \\multicolumn{2}{l}{4} & \\multicolumn{2}{l}{8} & \\multicolumn{2}{l}{16} \\\\\n",
      "{} &  incr. &  batch &  incr. &  batch &  incr. &  batch &  incr. &  batch &  incr. &  batch \\\\\n",
      "GDB Version &        &        &        &        &        &        &        &        &        &        \\\\\n",
      "\\midrule\n",
      "0           &   0.30 &   0.42 &   0.22 &   0.24 &   0.15 &   0.16 &   0.16 &   0.14 &   0.18 &   0.16 \\\\\n",
      "1           &   2.49 &   3.17 &   1.47 &   2.53 &   0.99 &   1.50 &   0.97 &   1.13 &   1.12 &   1.20 \\\\\n",
      "2           &   4.18 &   5.72 &   2.61 &   5.35 &   1.90 &   2.66 &   1.88 &   2.28 &   2.06 &   2.38 \\\\\n",
      "3           &   6.35 &   8.50 &   3.91 &   6.19 &   2.73 &   4.32 &   2.90 &   3.40 &   3.21 &   3.38 \\\\\n",
      "4           &   8.06 &  11.32 &   4.88 &  12.45 &   3.62 &   5.50 &   3.65 &   4.31 &   4.34 &   4.29 \\\\\n",
      "5           &   9.98 &  14.52 &   6.23 &  10.80 &   4.62 &   6.94 &   4.57 &   5.65 &   5.04 &   5.54 \\\\\n",
      "6           &  12.04 &  16.95 &   7.46 &  11.01 &   5.48 &   8.42 &   5.60 &   6.32 &   6.56 &   6.52 \\\\\n",
      "7           &  13.55 &  19.88 &   9.27 &  13.39 &   6.28 &   9.27 &   6.50 &   7.58 &   7.07 &   7.82 \\\\\n",
      "8           &  15.77 &  23.01 &   9.66 &  18.26 &   7.24 &  11.22 &   7.33 &   8.69 &   8.13 &   8.92 \\\\\n",
      "9           &  17.20 &  26.00 &  11.94 &  22.93 &   8.12 &  12.33 &   8.43 &   9.82 &   9.38 &  10.26 \\\\\n",
      "10          &  19.77 &  28.49 &  12.36 &  18.60 &   9.15 &  13.88 &   8.99 &  11.06 &  10.09 &  10.85 \\\\\n",
      "11          &  22.48 &  31.60 &  13.55 &  21.17 &   9.99 &  15.27 &  10.26 &  12.01 &  11.33 &  12.73 \\\\\n",
      "12          &  23.46 &  34.28 &  16.16 &  26.83 &  11.03 &  16.38 &  10.98 &  12.93 &  12.27 &  13.09 \\\\\n",
      "13          &  25.78 &  37.89 &  15.69 &  34.32 &  11.91 &  18.13 &  12.12 &  13.90 &  13.32 &  14.39 \\\\\n",
      "14          &  28.33 &  40.96 &  18.67 &  34.85 &  12.99 &  19.21 &  12.87 &  14.71 &  15.11 &  15.25 \\\\\n",
      "15          &  30.86 &  43.55 &  20.06 &  32.20 &  13.65 &  20.45 &  13.73 &  16.02 &  15.47 &  16.13 \\\\\n",
      "16          &  32.48 &  46.74 &  21.48 &  28.18 &  14.60 &  21.73 &  14.67 &  17.34 &  16.54 &  17.49 \\\\\n",
      "17          &  34.55 &  48.34 &  21.53 &  36.03 &  15.45 &  22.75 &  15.58 &  18.19 &  17.09 &  18.31 \\\\\n",
      "18          &  36.59 &  52.88 &  22.25 &  37.50 &  16.42 &  24.34 &  16.66 &  19.71 &  18.54 &  19.59 \\\\\n",
      "19          &  37.22 &  55.30 &  25.21 &  49.43 &  17.43 &  25.90 &  17.60 &  20.34 &  20.27 &  20.52 \\\\\n",
      "20          &  39.53 &  56.88 &  24.80 &  53.15 &  18.21 &  27.33 &  18.20 &  21.30 &  20.31 &  21.65 \\\\\n",
      "21          &  37.64 &  54.40 &  23.37 &  47.40 &  17.26 &  25.59 &  18.24 &  20.14 &  19.25 &  20.44 \\\\\n",
      "22          &  35.84 &  50.77 &  22.10 &  46.27 &  16.46 &  24.32 &  17.20 &  20.07 &  19.46 &  20.28 \\\\\n",
      "23          &  34.01 &  47.92 &  21.19 &  36.66 &  15.61 &  22.80 &  15.63 &  18.54 &  16.98 &  19.23 \\\\\n",
      "24          &  31.35 &  45.68 &  20.07 &  46.30 &  14.71 &  21.39 &  14.55 &  17.25 &  16.42 &  18.56 \\\\\n",
      "25          &  29.78 &  42.91 &  20.37 &  33.85 &  13.53 &  19.69 &  14.01 &  16.11 &  15.10 &  16.18 \\\\\n",
      "26          &  27.75 &  40.15 &  18.69 &  37.06 &  12.76 &  18.63 &  13.15 &  14.82 &  14.14 &  15.08 \\\\\n",
      "27          &  25.20 &  37.13 &  15.79 &  34.61 &  11.74 &  17.54 &  11.86 &  14.13 &  13.05 &  14.17 \\\\\n",
      "28          &  23.80 &  34.43 &  16.37 &  29.79 &  10.89 &  15.31 &  11.24 &  12.83 &  12.08 &  13.37 \\\\\n",
      "29          &  22.04 &  32.05 &  14.66 &  28.31 &  10.00 &  14.67 &   9.99 &  12.32 &  11.46 &  11.96 \\\\\n",
      "30          &  19.73 &  28.27 &  12.10 &  25.28 &   8.99 &  13.17 &   9.25 &  10.90 &  10.34 &  10.81 \\\\\n",
      "31          &  17.90 &  24.93 &  11.57 &  21.53 &   8.38 &  12.46 &   8.29 &   9.72 &   9.07 &   9.87 \\\\\n",
      "32          &  15.84 &  22.09 &  10.68 &  22.75 &   7.24 &  11.29 &   7.52 &   8.69 &   8.22 &   8.71 \\\\\n",
      "33          &  13.71 &  19.99 &   9.66 &  18.06 &   6.51 &   9.12 &   6.56 &   7.59 &   7.18 &   7.70 \\\\\n",
      "34          &  11.79 &  17.47 &   7.29 &  12.91 &   5.42 &   7.95 &   5.53 &   6.37 &   6.09 &   6.59 \\\\\n",
      "35          &  10.08 &  14.63 &   6.06 &   9.26 &   4.56 &   6.41 &   4.79 &   5.52 &   5.17 &   5.65 \\\\\n",
      "36          &   7.97 &  11.71 &   5.01 &  10.32 &   3.67 &   5.47 &   3.97 &   4.45 &   4.07 &   4.38 \\\\\n",
      "37          &   6.01 &   9.09 &   4.15 &   8.35 &   2.85 &   3.99 &   2.88 &   3.49 &   3.17 &   3.34 \\\\\n",
      "38          &   3.88 &   5.82 &   2.58 &   5.98 &   1.89 &   2.61 &   1.94 &   2.26 &   2.04 &   2.21 \\\\\n",
      "39          &   2.07 &   2.96 &   1.34 &   1.85 &   0.99 &   1.36 &   0.99 &   1.11 &   1.07 &   1.13 \\\\\n",
      "40          &   0.20 &   0.32 &   0.16 &   0.24 &   0.11 &   0.15 &   0.11 &   0.13 &   0.11 &   0.12 \\\\\n",
      "\\bottomrule\n",
      "\\end{tabular}\n",
      "\n"
     ]
    }
   ],
   "source": [
    "print(latex_frame.to_latex())"
   ]
  },
  {
   "cell_type": "markdown",
   "metadata": {},
   "source": [
    "# run details\n"
   ]
  },
  {
   "cell_type": "code",
   "execution_count": 21,
   "metadata": {},
   "outputs": [
    {
     "data": {
      "text/html": [
       "<div>\n",
       "<style scoped>\n",
       "    .dataframe tbody tr th:only-of-type {\n",
       "        vertical-align: middle;\n",
       "    }\n",
       "\n",
       "    .dataframe tbody tr th {\n",
       "        vertical-align: top;\n",
       "    }\n",
       "\n",
       "    .dataframe thead th {\n",
       "        text-align: right;\n",
       "    }\n",
       "</style>\n",
       "<table border=\"1\" class=\"dataframe\">\n",
       "  <thead>\n",
       "    <tr style=\"text-align: right;\">\n",
       "      <th></th>\n",
       "      <th>attribute-parallel_1-Inc</th>\n",
       "      <th>attribute-parallel_1-Batch</th>\n",
       "      <th>attribute-parallel_1-Inc F&amp;M</th>\n",
       "      <th>attribute-parallel_1-Batch F&amp;M</th>\n",
       "      <th>attribute-parallel_2-Inc</th>\n",
       "      <th>attribute-parallel_2-Batch</th>\n",
       "      <th>attribute-parallel_2-Inc F&amp;M</th>\n",
       "      <th>attribute-parallel_2-Batch F&amp;M</th>\n",
       "      <th>attribute-parallel_4-Inc</th>\n",
       "      <th>attribute-parallel_4-Batch</th>\n",
       "      <th>attribute-parallel_4-Inc F&amp;M</th>\n",
       "      <th>attribute-parallel_4-Batch F&amp;M</th>\n",
       "      <th>attribute-parallel_8-Inc</th>\n",
       "      <th>attribute-parallel_8-Batch</th>\n",
       "      <th>attribute-parallel_8-Inc F&amp;M</th>\n",
       "      <th>attribute-parallel_8-Batch F&amp;M</th>\n",
       "      <th>attribute-parallel_16-Inc</th>\n",
       "      <th>attribute-parallel_16-Batch</th>\n",
       "      <th>attribute-parallel_16-Inc F&amp;M</th>\n",
       "      <th>attribute-parallel_16-Batch F&amp;M</th>\n",
       "    </tr>\n",
       "    <tr>\n",
       "      <th>Iteration</th>\n",
       "      <th></th>\n",
       "      <th></th>\n",
       "      <th></th>\n",
       "      <th></th>\n",
       "      <th></th>\n",
       "      <th></th>\n",
       "      <th></th>\n",
       "      <th></th>\n",
       "      <th></th>\n",
       "      <th></th>\n",
       "      <th></th>\n",
       "      <th></th>\n",
       "      <th></th>\n",
       "      <th></th>\n",
       "      <th></th>\n",
       "      <th></th>\n",
       "      <th></th>\n",
       "      <th></th>\n",
       "      <th></th>\n",
       "      <th></th>\n",
       "    </tr>\n",
       "  </thead>\n",
       "  <tbody>\n",
       "    <tr>\n",
       "      <th>0</th>\n",
       "      <td>0.300883</td>\n",
       "      <td>0.422300</td>\n",
       "      <td>0.044117</td>\n",
       "      <td>0.178683</td>\n",
       "      <td>0.223483</td>\n",
       "      <td>0.244533</td>\n",
       "      <td>0.035550</td>\n",
       "      <td>0.082483</td>\n",
       "      <td>0.148633</td>\n",
       "      <td>0.160667</td>\n",
       "      <td>0.039217</td>\n",
       "      <td>0.066000</td>\n",
       "      <td>0.155467</td>\n",
       "      <td>0.141883</td>\n",
       "      <td>0.046700</td>\n",
       "      <td>0.053883</td>\n",
       "      <td>0.176333</td>\n",
       "      <td>0.162500</td>\n",
       "      <td>0.061833</td>\n",
       "      <td>0.066250</td>\n",
       "    </tr>\n",
       "    <tr>\n",
       "      <th>1</th>\n",
       "      <td>2.487367</td>\n",
       "      <td>3.174783</td>\n",
       "      <td>0.163400</td>\n",
       "      <td>1.123067</td>\n",
       "      <td>1.470883</td>\n",
       "      <td>2.528350</td>\n",
       "      <td>0.210000</td>\n",
       "      <td>1.292550</td>\n",
       "      <td>0.993050</td>\n",
       "      <td>1.504200</td>\n",
       "      <td>0.253900</td>\n",
       "      <td>0.734217</td>\n",
       "      <td>0.965383</td>\n",
       "      <td>1.133167</td>\n",
       "      <td>0.266383</td>\n",
       "      <td>0.421783</td>\n",
       "      <td>1.122800</td>\n",
       "      <td>1.199117</td>\n",
       "      <td>0.428467</td>\n",
       "      <td>0.504467</td>\n",
       "    </tr>\n",
       "    <tr>\n",
       "      <th>2</th>\n",
       "      <td>4.178717</td>\n",
       "      <td>5.723617</td>\n",
       "      <td>0.297683</td>\n",
       "      <td>2.127067</td>\n",
       "      <td>2.610333</td>\n",
       "      <td>5.353800</td>\n",
       "      <td>0.326583</td>\n",
       "      <td>3.219317</td>\n",
       "      <td>1.898133</td>\n",
       "      <td>2.661550</td>\n",
       "      <td>0.474500</td>\n",
       "      <td>1.278783</td>\n",
       "      <td>1.881367</td>\n",
       "      <td>2.275583</td>\n",
       "      <td>0.537117</td>\n",
       "      <td>0.991683</td>\n",
       "      <td>2.055633</td>\n",
       "      <td>2.376483</td>\n",
       "      <td>0.727950</td>\n",
       "      <td>1.078600</td>\n",
       "    </tr>\n",
       "    <tr>\n",
       "      <th>3</th>\n",
       "      <td>6.352917</td>\n",
       "      <td>8.503567</td>\n",
       "      <td>0.407900</td>\n",
       "      <td>3.175117</td>\n",
       "      <td>3.913367</td>\n",
       "      <td>6.188933</td>\n",
       "      <td>0.542150</td>\n",
       "      <td>2.574317</td>\n",
       "      <td>2.731000</td>\n",
       "      <td>4.324967</td>\n",
       "      <td>0.709150</td>\n",
       "      <td>2.262067</td>\n",
       "      <td>2.903950</td>\n",
       "      <td>3.404133</td>\n",
       "      <td>0.944867</td>\n",
       "      <td>1.472667</td>\n",
       "      <td>3.210083</td>\n",
       "      <td>3.378733</td>\n",
       "      <td>1.256900</td>\n",
       "      <td>1.416900</td>\n",
       "    </tr>\n",
       "    <tr>\n",
       "      <th>4</th>\n",
       "      <td>8.057300</td>\n",
       "      <td>11.315683</td>\n",
       "      <td>0.597767</td>\n",
       "      <td>4.109617</td>\n",
       "      <td>4.875683</td>\n",
       "      <td>12.454500</td>\n",
       "      <td>0.630233</td>\n",
       "      <td>7.496367</td>\n",
       "      <td>3.621983</td>\n",
       "      <td>5.497783</td>\n",
       "      <td>0.950817</td>\n",
       "      <td>2.735067</td>\n",
       "      <td>3.648033</td>\n",
       "      <td>4.306867</td>\n",
       "      <td>1.062233</td>\n",
       "      <td>1.740350</td>\n",
       "      <td>4.341450</td>\n",
       "      <td>4.289367</td>\n",
       "      <td>1.795367</td>\n",
       "      <td>1.745217</td>\n",
       "    </tr>\n",
       "  </tbody>\n",
       "</table>\n",
       "</div>"
      ],
      "text/plain": [
       "           attribute-parallel_1-Inc  attribute-parallel_1-Batch  \\\n",
       "Iteration                                                         \n",
       "0                          0.300883                    0.422300   \n",
       "1                          2.487367                    3.174783   \n",
       "2                          4.178717                    5.723617   \n",
       "3                          6.352917                    8.503567   \n",
       "4                          8.057300                   11.315683   \n",
       "\n",
       "           attribute-parallel_1-Inc F&M  attribute-parallel_1-Batch F&M  \\\n",
       "Iteration                                                                 \n",
       "0                              0.044117                        0.178683   \n",
       "1                              0.163400                        1.123067   \n",
       "2                              0.297683                        2.127067   \n",
       "3                              0.407900                        3.175117   \n",
       "4                              0.597767                        4.109617   \n",
       "\n",
       "           attribute-parallel_2-Inc  attribute-parallel_2-Batch  \\\n",
       "Iteration                                                         \n",
       "0                          0.223483                    0.244533   \n",
       "1                          1.470883                    2.528350   \n",
       "2                          2.610333                    5.353800   \n",
       "3                          3.913367                    6.188933   \n",
       "4                          4.875683                   12.454500   \n",
       "\n",
       "           attribute-parallel_2-Inc F&M  attribute-parallel_2-Batch F&M  \\\n",
       "Iteration                                                                 \n",
       "0                              0.035550                        0.082483   \n",
       "1                              0.210000                        1.292550   \n",
       "2                              0.326583                        3.219317   \n",
       "3                              0.542150                        2.574317   \n",
       "4                              0.630233                        7.496367   \n",
       "\n",
       "           attribute-parallel_4-Inc  attribute-parallel_4-Batch  \\\n",
       "Iteration                                                         \n",
       "0                          0.148633                    0.160667   \n",
       "1                          0.993050                    1.504200   \n",
       "2                          1.898133                    2.661550   \n",
       "3                          2.731000                    4.324967   \n",
       "4                          3.621983                    5.497783   \n",
       "\n",
       "           attribute-parallel_4-Inc F&M  attribute-parallel_4-Batch F&M  \\\n",
       "Iteration                                                                 \n",
       "0                              0.039217                        0.066000   \n",
       "1                              0.253900                        0.734217   \n",
       "2                              0.474500                        1.278783   \n",
       "3                              0.709150                        2.262067   \n",
       "4                              0.950817                        2.735067   \n",
       "\n",
       "           attribute-parallel_8-Inc  attribute-parallel_8-Batch  \\\n",
       "Iteration                                                         \n",
       "0                          0.155467                    0.141883   \n",
       "1                          0.965383                    1.133167   \n",
       "2                          1.881367                    2.275583   \n",
       "3                          2.903950                    3.404133   \n",
       "4                          3.648033                    4.306867   \n",
       "\n",
       "           attribute-parallel_8-Inc F&M  attribute-parallel_8-Batch F&M  \\\n",
       "Iteration                                                                 \n",
       "0                              0.046700                        0.053883   \n",
       "1                              0.266383                        0.421783   \n",
       "2                              0.537117                        0.991683   \n",
       "3                              0.944867                        1.472667   \n",
       "4                              1.062233                        1.740350   \n",
       "\n",
       "           attribute-parallel_16-Inc  attribute-parallel_16-Batch  \\\n",
       "Iteration                                                           \n",
       "0                           0.176333                     0.162500   \n",
       "1                           1.122800                     1.199117   \n",
       "2                           2.055633                     2.376483   \n",
       "3                           3.210083                     3.378733   \n",
       "4                           4.341450                     4.289367   \n",
       "\n",
       "           attribute-parallel_16-Inc F&M  attribute-parallel_16-Batch F&M  \n",
       "Iteration                                                                  \n",
       "0                               0.061833                         0.066250  \n",
       "1                               0.428467                         0.504467  \n",
       "2                               0.727950                         1.078600  \n",
       "3                               1.256900                         1.416900  \n",
       "4                               1.795367                         1.745217  "
      ]
     },
     "metadata": {},
     "output_type": "display_data"
    }
   ],
   "source": [
    "display(run_details_frame.head())"
   ]
  },
  {
   "cell_type": "code",
   "execution_count": 22,
   "metadata": {},
   "outputs": [
    {
     "data": {
      "text/plain": [
       "attribute-parallel_1-Batch     0.360146\n",
       "attribute-parallel_1-Inc       0.069882\n",
       "attribute-parallel_2-Batch     0.517413\n",
       "attribute-parallel_2-Inc       0.129648\n",
       "attribute-parallel_4-Batch     0.502664\n",
       "attribute-parallel_4-Inc       0.275767\n",
       "attribute-parallel_8-Batch     0.402540\n",
       "attribute-parallel_8-Inc       0.302867\n",
       "attribute-parallel_16-Batch    0.418099\n",
       "attribute-parallel_16-Inc      0.376166\n",
       "dtype: float64"
      ]
     },
     "metadata": {},
     "output_type": "display_data"
    },
    {
     "data": {
      "text/plain": [
       "attribute-parallel_1-Batch     0.013910\n",
       "attribute-parallel_1-Inc       0.012473\n",
       "attribute-parallel_2-Batch     0.080955\n",
       "attribute-parallel_2-Inc       0.009340\n",
       "attribute-parallel_4-Batch     0.021771\n",
       "attribute-parallel_4-Inc       0.010695\n",
       "attribute-parallel_8-Batch     0.015567\n",
       "attribute-parallel_8-Inc       0.012529\n",
       "attribute-parallel_16-Batch    0.013439\n",
       "attribute-parallel_16-Inc      0.014098\n",
       "dtype: float64"
      ]
     },
     "metadata": {},
     "output_type": "display_data"
    }
   ],
   "source": [
    "find_and_merge_frame = pd.DataFrame()\n",
    "for collection in collections:\n",
    "    for i in range(0, len(parallizations)):\n",
    "        current = parallizations[i]\n",
    "        find_and_merge_frame[collection+'-'+current+'-Batch'] = run_details_frame[collection+'-'+current +'-Batch F&M'] / run_details_frame[collection+'-'+current+'-Batch'] \n",
    "        find_and_merge_frame[collection+'-'+current+'-Inc'] = run_details_frame[collection+'-'+current+'-Inc F&M'] / run_details_frame[collection+'-'+current+'-Inc'] \n",
    "            \n",
    "display(find_and_merge_frame.mean())\n",
    "display(find_and_merge_frame.std())"
   ]
  },
  {
   "cell_type": "markdown",
   "metadata": {},
   "source": [
    "# other stuff"
   ]
  },
  {
   "cell_type": "code",
   "execution_count": 23,
   "metadata": {},
   "outputs": [],
   "source": [
    "import numpy as np\n",
    "import matplotlib.pyplot as plt\n",
    "\n",
    "\n"
   ]
  },
  {
   "cell_type": "code",
   "execution_count": 24,
   "metadata": {},
   "outputs": [
    {
     "ename": "NameError",
     "evalue": "name 'data_dir' is not defined",
     "output_type": "error",
     "traceback": [
      "\u001b[0;31m---------------------------------------------------------------------------\u001b[0m",
      "\u001b[0;31mNameError\u001b[0m                                 Traceback (most recent call last)",
      "\u001b[0;32m<ipython-input-24-31e92d33a32d>\u001b[0m in \u001b[0;36m<module>\u001b[0;34m\u001b[0m\n\u001b[1;32m      1\u001b[0m \u001b[0msize_frame\u001b[0m \u001b[0;34m=\u001b[0m \u001b[0mpd\u001b[0m\u001b[0;34m.\u001b[0m\u001b[0mDataFrame\u001b[0m\u001b[0;34m(\u001b[0m\u001b[0;34m)\u001b[0m\u001b[0;34m\u001b[0m\u001b[0;34m\u001b[0m\u001b[0m\n\u001b[1;32m      2\u001b[0m \u001b[0;32mfor\u001b[0m \u001b[0mcollection\u001b[0m \u001b[0;32min\u001b[0m \u001b[0mcollections\u001b[0m\u001b[0;34m:\u001b[0m\u001b[0;34m\u001b[0m\u001b[0;34m\u001b[0m\u001b[0m\n\u001b[0;32m----> 3\u001b[0;31m     \u001b[0;32mwith\u001b[0m \u001b[0mopen\u001b[0m\u001b[0;34m(\u001b[0m\u001b[0mos\u001b[0m\u001b[0;34m.\u001b[0m\u001b[0mpath\u001b[0m\u001b[0;34m.\u001b[0m\u001b[0mjoin\u001b[0m\u001b[0;34m(\u001b[0m\u001b[0mdata_dir\u001b[0m\u001b[0;34m,\u001b[0m \u001b[0mappname\u001b[0m \u001b[0;34m+\u001b[0m \u001b[0;34m'_'\u001b[0m\u001b[0;34m+\u001b[0m\u001b[0mcollection\u001b[0m\u001b[0;34m+\u001b[0m\u001b[0msuffix\u001b[0m\u001b[0;34m+\u001b[0m\u001b[0;34m'-update-time-and-space.csv'\u001b[0m\u001b[0;34m)\u001b[0m\u001b[0;34m,\u001b[0m \u001b[0;34m'r'\u001b[0m\u001b[0;34m)\u001b[0m \u001b[0;32mas\u001b[0m \u001b[0mf\u001b[0m\u001b[0;34m:\u001b[0m\u001b[0;34m\u001b[0m\u001b[0;34m\u001b[0m\u001b[0m\n\u001b[0m\u001b[1;32m      4\u001b[0m         \u001b[0mdf\u001b[0m \u001b[0;34m=\u001b[0m \u001b[0mpd\u001b[0m\u001b[0;34m.\u001b[0m\u001b[0mread_csv\u001b[0m\u001b[0;34m(\u001b[0m\u001b[0mf\u001b[0m\u001b[0;34m,\u001b[0m \u001b[0msep\u001b[0m\u001b[0;34m=\u001b[0m\u001b[0;34m','\u001b[0m\u001b[0;34m)\u001b[0m\u001b[0;34m\u001b[0m\u001b[0;34m\u001b[0m\u001b[0m\n\u001b[1;32m      5\u001b[0m         \u001b[0mdf\u001b[0m\u001b[0;34m.\u001b[0m\u001b[0mhead\u001b[0m\u001b[0;34m(\u001b[0m\u001b[0;34m)\u001b[0m\u001b[0;34m\u001b[0m\u001b[0;34m\u001b[0m\u001b[0m\n",
      "\u001b[0;31mNameError\u001b[0m: name 'data_dir' is not defined"
     ]
    }
   ],
   "source": [
    "size_frame = pd.DataFrame()\n",
    "for collection in collections:\n",
    "    with open(os.path.join(data_dir, appname + '_'+collection+suffix+'-update-time-and-space.csv'), 'r') as f:\n",
    "        df = pd.read_csv(f, sep=',')\n",
    "        df.head()\n",
    "        \n",
    "        iterations = max(iterations, len(df['Iteration']))\n",
    "        df = df.set_index('Iteration')\n",
    "\n",
    "        if '|V|' not in size_frame:\n",
    "            size_frame['|V|'] = df['Imprint links']\n",
    "            \n",
    "        size_frame[collection+':|V_vs|'] = df['Schema Elements (SE)']\n",
    "        size_frame[collection+':|E_vs|'] = df['Schema Relations (SR)']\n",
    "\n",
    "\n",
    "        \n",
    "size_frame = size_frame.join(edgeframe,how='left')\n",
    "display(size_frame.head())\n"
   ]
  },
  {
   "cell_type": "code",
   "execution_count": null,
   "metadata": {},
   "outputs": [],
   "source": [
    "display(size_frame['|V|'].min())\n",
    "display(size_frame['|V|'].max())\n",
    "display(size_frame['|V|'].mean())\n",
    "display(size_frame['|V|'].std())"
   ]
  },
  {
   "cell_type": "code",
   "execution_count": null,
   "metadata": {},
   "outputs": [],
   "source": [
    "size_frame.columns = ['|V|', 'SchemEX:|V_vs|','SchemEX:|E_vs|' \n",
    "                    , 'AttrColl:|V_vs|', 'AttrColl:|E_vs|'\n",
    "                    , 'TypeColl:|V_vs|', 'TypeColl:|E_vs|', '|E|']\n",
    "\n",
    "if appname == 'dyldo_y2019_core':\n",
    "    if interpolate:\n",
    "        size_frame = size_frame.drop(size_frame.index[[21,22]])\n",
    "    else:\n",
    "        size_frame.loc[21:22,'|V|':'|E|']=np.nan,np.nan,np.nan,np.nan,np.nan,np.nan,np.nan,np.nan\n",
    "   \n",
    "\n",
    "if appname == 'dyldo_y2019_full':\n",
    "    size_frame = size_frame.head()\n",
    "    iterations = 5\n",
    "    ticks = 1.0\n",
    "    print('drop the beat')\n",
    "    \n",
    "  \n",
    "display(size_frame)\n",
    "\n",
    "sorted_frame = size_frame[['SchemEX:|V_vs|', 'SchemEX:|E_vs|' \n",
    "                    , 'AttrColl:|V_vs|', 'AttrColl:|E_vs|'\n",
    "                    , 'TypeColl:|V_vs|', 'TypeColl:|E_vs|', '|V|', '|E|']]\n",
    "\n",
    "sorted_frame.columns=['SchemEX:$|V_{vs}|$', 'SchemEX:$|E_{vs}|$' \n",
    "                    , 'AttrColl:$|V_{vs}|$', 'AttrColl:$|E_{vs}|$'\n",
    "                    , 'TypeColl:$|V_{vs}|$', 'TypeColl:$|E_{vs}|$', '$|V|$', '$|E|$']\n",
    "\n",
    "ax = sorted_frame.plot(logy=True, style = ['--','-','--','-','--','-','--','-'], \n",
    "                       color=['darkslateblue', 'darkslateblue',\n",
    "                             'forestgreen','forestgreen',\n",
    "                             'indianred','indianred', 'dimgray', 'dimgray'])#,yticks=([math.exp(w) for w in np.arange(1, 10, 2)]))\n",
    "#ax.set_ylim([2500, 80000])color=['dimgray', 'darkslateblue']\n",
    "#plt.yticks(np.arange(0, iterations, 5.0))\n",
    "#plt.\n",
    "plt.xticks(np.arange(0, iterations, ticks))\n",
    "ax.set_xlabel(\"GDB version\")\n",
    "ax.set_ylabel(\"Count\")\n",
    "\n",
    "ax.legend(loc='upper center', bbox_to_anchor=(0.5, 1.325), shadow=True, ncol=3)\n",
    "if hide_legend:\n",
    "    ax.get_legend().remove()\n",
    "    \n",
    "plt.grid(True)\n",
    "plt.savefig(out_dir + '/' + appname + '-sizes.pdf',  bbox_inches = 'tight')"
   ]
  },
  {
   "cell_type": "code",
   "execution_count": null,
   "metadata": {},
   "outputs": [],
   "source": []
  },
  {
   "cell_type": "code",
   "execution_count": null,
   "metadata": {},
   "outputs": [],
   "source": []
  },
  {
   "cell_type": "code",
   "execution_count": null,
   "metadata": {},
   "outputs": [],
   "source": []
  },
  {
   "cell_type": "code",
   "execution_count": null,
   "metadata": {},
   "outputs": [],
   "source": []
  },
  {
   "cell_type": "code",
   "execution_count": null,
   "metadata": {},
   "outputs": [],
   "source": [
    "frames = [None, None, None]\n",
    "i = 0\n",
    "iterations = 0\n",
    "for collection in collections:\n",
    "    with open(os.path.join(data_dir, appname + '_'+collection+suffix+'-changes.csv'), 'r') as f:\n",
    "        df = pd.read_csv(f, sep=',')\n",
    "        df.head()\n",
    "\n",
    "        #del df['NewlyObservedSchema (SE_new)']\n",
    "        #del df['DeletedSchemaStructures (SE_del)']\n",
    "\n",
    "        \n",
    "        del df['TotalNumberOfNewInstances'] \n",
    "        del df['InstanceAddedWithKnownSchema (PE_add)']\n",
    "        del df['InstancesDeleted (PE_del)']\n",
    "        del df['ChangedSchemaStructuresBecauseOfNeighbor'] \n",
    "        del df['PayloadEntriesAdded'] \n",
    "        del df['PayloadEntriesRemoved'] \n",
    "        del df['InstanceToSchemaLinksAdded'] \n",
    "        del df['InstanceToSchemaLinksRemoved'] \n",
    "\n",
    "        del df['TotalNumberOfChangedPayloadElements (real PE_mod)']\n",
    "        \n",
    "        del df['TotalNumberOfSchemaElementsWritten']\n",
    "        del df['TotalNumberOfSchemaElementsDeleted']\n",
    "        #del df['InstanceNotChanged (PE_mod)']\n",
    "        iterations = max(iterations, len(df['Iteration']))\n",
    "        df = df.set_index('Iteration')\n",
    "        print(df.columns)\n",
    "        df.columns = [collection+'ADD', collection+'DEL', collection+'MOD', collection+'unchanged']    #'Modified pe(v)'\n",
    "        \n",
    "        #df.columns = [collection+'MOD-ELEM', collection+'Unchanged v', collection+'ADD-ELEM', collection+'DEL-ELEM']    #'Modified pe(v)'\n",
    "        #df = df[[collection+'ADD-ELEM', collection+'DEL-ELEM', collection+'MOD-ELEM',collection+'Unchanged v']] #'Modified pe(v)'\n",
    "        frames[i] = df\n",
    "        i = i + 1\n",
    "        \n",
    "df = pd.concat(frames, sort=False)\n",
    "\n",
    "\n",
    "df.columns = ['SchemEX:ADD', 'SchemEX:DEL', 'SchemEX:MOD','SchemEX:PAY',\n",
    "             'AttrColl:ADD', 'AttrColl:DEL', 'AttrColl:MOD','AttrColl:PAY',\n",
    "             'TypeColl:ADD', 'TypeColl:DEL', 'TypeColl:MOD','TypeColl:PAY']\n",
    "ax = df.plot(logy=True, style = [':','-','--','-.',':','-','--','-.',':','-','--','-.'], \n",
    "             color=['darkslateblue', 'darkslateblue', 'darkslateblue', 'darkslateblue', \n",
    "                    'forestgreen', 'forestgreen', 'forestgreen','forestgreen',\n",
    "                   'indianred', 'indianred', 'indianred','indianred'])\n",
    "#ax.set_ylabel(\"Quantity\")\n",
    "#ax.yaxis.set_label_coords(-0.015,1.0)\n",
    "plt.xticks(np.arange(0, iterations, 5.0))\n",
    "ax.set_xlabel(\"GDB version\")\n",
    "ax.legend(loc='upper center', bbox_to_anchor=(0.5, 1.325), shadow=True, ncol=3)\n",
    "\n",
    "if hide_legend:\n",
    "    ax.get_legend().remove()\n",
    "\n",
    "plt.grid(True)\n",
    "plt.savefig(out_dir + '/' + appname + '-changes.png', bbox_inches = 'tight')"
   ]
  },
  {
   "cell_type": "code",
   "execution_count": null,
   "metadata": {},
   "outputs": [],
   "source": []
  }
 ],
 "metadata": {
  "kernelspec": {
   "display_name": "Python 3",
   "language": "python",
   "name": "python3"
  },
  "language_info": {
   "codemirror_mode": {
    "name": "ipython",
    "version": 3
   },
   "file_extension": ".py",
   "mimetype": "text/x-python",
   "name": "python",
   "nbconvert_exporter": "python",
   "pygments_lexer": "ipython3",
   "version": "3.8.6"
  }
 },
 "nbformat": 4,
 "nbformat_minor": 2
}
