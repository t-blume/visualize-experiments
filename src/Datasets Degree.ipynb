{
 "cells": [
  {
   "cell_type": "code",
   "execution_count": 1,
   "id": "celtic-membership",
   "metadata": {},
   "outputs": [],
   "source": [
    "import json\n",
    "import os\n",
    "from os import listdir\n",
    "from os.path import isfile, join\n",
    "import pickle\n",
    "import gzip\n",
    "import pandas as pd\n",
    "import matplotlib.pyplot as plt\n",
    "import matplotlib\n",
    "import tabulate\n",
    "import numpy as np\n",
    "import math\n",
    "\n",
    "import re\n",
    "\n",
    "from itertools import cycle, islice\n",
    "\n",
    "# Fitting Linear Regression to the dataset \n",
    "from sklearn.linear_model import LinearRegression \n",
    "# Fitting Polynomial Regression to the dataset \n",
    "from sklearn.preprocessing import PolynomialFeatures \n",
    "\n",
    "from scipy.stats import pearsonr\n",
    "\n",
    "def atoi(text):\n",
    "    return int(text) if text.isdigit() else text\n",
    "\n",
    "def natural_keys(text):\n",
    "    '''\n",
    "    alist.sort(key=natural_keys) sorts in human order\n",
    "    http://nedbatchelder.com/blog/200712/human_sorting.html\n",
    "    (See Toothy's implementation in the comments)\n",
    "    '''\n",
    "    return [ atoi(c) for c in re.split(r'(\\d+)', text) ]"
   ]
  },
  {
   "cell_type": "code",
   "execution_count": 2,
   "id": "intensive-extension",
   "metadata": {},
   "outputs": [],
   "source": [
    "fig_width = 8\n",
    "fig_height = 5\n",
    "\n",
    "params = {\n",
    "    'axes.labelsize': 12, # fontsize for x and y labels (was 10)\n",
    "    'axes.titlesize': 12,\n",
    "    #'text.fontsize': 8, # was 10\n",
    "    'legend.fontsize': 12, # was 10\n",
    "    'xtick.labelsize': 12,\n",
    "    'ytick.labelsize': 12,\n",
    "    'text.usetex': True,\n",
    "    'text.usetex': False,\n",
    "    'figure.figsize': [fig_width,fig_height],\n",
    "    'font.family': 'serif',\n",
    "    'grid.linestyle': '--',\n",
    "    'lines.linewidth': 2\n",
    "}\n",
    "\n",
    "matplotlib.rcParams.update(params)"
   ]
  },
  {
   "cell_type": "code",
   "execution_count": 3,
   "id": "touched-poker",
   "metadata": {},
   "outputs": [],
   "source": [
    "data_dir = join('..', 'data', 'dataset_data')\n",
    "out_dir = join('..', 'plots', 'statistical_analysis')"
   ]
  },
  {
   "cell_type": "code",
   "execution_count": 4,
   "id": "auburn-start",
   "metadata": {},
   "outputs": [],
   "source": [
    "def build_degree_frame(data_size_dir):\n",
    "\n",
    "    curr_dir = join(data_dir, data_size_dir)\n",
    "    onlyfiles = [f for f in listdir(curr_dir) if isfile(join(curr_dir, f)) and f.endswith(\".csv\")]\n",
    "    onlyfiles.sort(key=natural_keys)\n",
    "\n",
    "    degree_frame = pd.DataFrame()\n",
    "    i = 0\n",
    "    for filename in onlyfiles:\n",
    "        with open(os.path.join(curr_dir, filename), 'r') as f:\n",
    "            df = pd.read_csv(f, sep=',')\n",
    "            if 'iteration' in filename:\n",
    "                iteration = filename.replace('iteration', '')\n",
    "                iteration = iteration.replace('-', '')\n",
    "                iteration = iteration.replace('degree.csv', '')\n",
    "                iteration = iteration.replace('.gz', '')\n",
    "                iteration = iteration.replace('.nq', '')\n",
    "                iteration = iteration.replace('.nt', '')\n",
    "                i = int(iteration)\n",
    "            else:\n",
    "                i = i + 1\n",
    "\n",
    "            df['Iteration'] = i\n",
    "            df = df.set_index('Iteration')\n",
    "            if degree_frame.empty:\n",
    "                degree_frame = df\n",
    "            else:\n",
    "                degree_frame = degree_frame.append(df)\n",
    "\n",
    "    #plot = degree_frame['max_degree'].plot()  \n",
    "    if data_size_dir == 'DyLDO-core':\n",
    "        degree_frame = degree_frame.drop(degree_frame.index[[21,22]])\n",
    "\n",
    "\n",
    "    if data_size_dir == 'DyLDO-ext':\n",
    "        degree_frame = degree_frame.head()\n",
    "        iterations = 5\n",
    "        ticks = 1.0\n",
    "        print('drop the beat')\n",
    "        \n",
    "    return degree_frame\n",
    "    \n"
   ]
  },
  {
   "cell_type": "code",
   "execution_count": 12,
   "id": "alien-stick",
   "metadata": {},
   "outputs": [],
   "source": [
    "def plot_degrees(data_size_dir, y_min=None, y_max=None):\n",
    "    degree_frame = build_degree_frame(data_size_dir)\n",
    "    plot_frame = degree_frame[['avg_degree', 'avg_indegree', 'avg_outdegree']]\n",
    "\n",
    "    plot_frame.columns = ['degree', 'in-degree', 'out-degree']\n",
    "\n",
    "    fig, ax_new = plt.subplots(1,1, sharey=False)\n",
    "\n",
    "    boxplot = plot_frame.boxplot() \n",
    "\n",
    "    if y_min is not None and y_max is not None:\n",
    "        ax_new.set_ylim(y_min, y_max)\n",
    "    else:\n",
    "        print(y_min, y_max)\n",
    "\n",
    "\n",
    "    plt.savefig(out_dir + '/' + data_size_dir + '-degree.pdf', bbox_inches = 'tight')\n",
    "    plt.savefig(out_dir + '/' + data_size_dir + '-degree.png', bbox_inches = 'tight')\n",
    "\n",
    "\n",
    "\n",
    "\n"
   ]
  },
  {
   "cell_type": "code",
   "execution_count": 13,
   "id": "atomic-coach",
   "metadata": {},
   "outputs": [
    {
     "data": {
      "text/plain": [
       "\"\\ndata_size_dir = 'LUBM'\\n\\n\\ndata_size_dir = 'BSBM'\\n\\n\\ndata_size_dir = 'DyLDO-core'\\n\\n\\ndata_size_dir = 'DyLDO-ext'\\n\""
      ]
     },
     "execution_count": 13,
     "metadata": {},
     "output_type": "execute_result"
    }
   ],
   "source": [
    "\n",
    "\"\"\"\n",
    "data_size_dir = 'LUBM'\n",
    "\n",
    "\n",
    "data_size_dir = 'BSBM'\n",
    "\n",
    "\n",
    "data_size_dir = 'DyLDO-core'\n",
    "\n",
    "\n",
    "data_size_dir = 'DyLDO-ext'\n",
    "\"\"\"\n"
   ]
  },
  {
   "cell_type": "code",
   "execution_count": 19,
   "id": "brown-moore",
   "metadata": {},
   "outputs": [
    {
     "data": {
      "image/png": "[encoded data removed]",
      "text/plain": [
       "<Figure size 576x360 with 1 Axes>"
      ]
     },
     "metadata": {
      "needs_background": "light"
     },
     "output_type": "display_data"
    }
   ],
   "source": [
    "plot_degrees('LUBM', y_min=0, y_max=13)"
   ]
  },
  {
   "cell_type": "code",
   "execution_count": 20,
   "id": "juvenile-cleaners",
   "metadata": {},
   "outputs": [
    {
     "data": {
      "image/png": "[encoded data removed]",
      "text/plain": [
       "<Figure size 576x360 with 1 Axes>"
      ]
     },
     "metadata": {
      "needs_background": "light"
     },
     "output_type": "display_data"
    }
   ],
   "source": [
    "plot_degrees('DyLDO-core', y_min=0, y_max=13)"
   ]
  },
  {
   "cell_type": "code",
   "execution_count": 21,
   "id": "subject-negative",
   "metadata": {},
   "outputs": [
    {
     "data": {
      "image/png": "[encoded data removed]",
      "text/plain": [
       "<Figure size 576x360 with 1 Axes>"
      ]
     },
     "metadata": {
      "needs_background": "light"
     },
     "output_type": "display_data"
    }
   ],
   "source": [
    "plot_degrees('BSBM', y_min=0, y_max=13)"
   ]
  },
  {
   "cell_type": "code",
   "execution_count": 22,
   "id": "present-water",
   "metadata": {},
   "outputs": [
    {
     "name": "stdout",
     "output_type": "stream",
     "text": [
      "drop the beat\n"
     ]
    },
    {
     "data": {
      "image/png": "[encoded data removed]",
      "text/plain": [
       "<Figure size 576x360 with 1 Axes>"
      ]
     },
     "metadata": {
      "needs_background": "light"
     },
     "output_type": "display_data"
    }
   ],
   "source": [
    "plot_degrees('DyLDO-ext', y_min=0, y_max=13)"
   ]
  },
  {
   "cell_type": "code",
   "execution_count": null,
   "id": "devoted-launch",
   "metadata": {},
   "outputs": [],
   "source": []
  }
 ],
 "metadata": {
  "kernelspec": {
   "display_name": "Python 3",
   "language": "python",
   "name": "python3"
  },
  "language_info": {
   "codemirror_mode": {
    "name": "ipython",
    "version": 3
   },
   "file_extension": ".py",
   "mimetype": "text/x-python",
   "name": "python",
   "nbconvert_exporter": "python",
   "pygments_lexer": "ipython3",
   "version": "3.8.6"
  }
 },
 "nbformat": 4,
 "nbformat_minor": 5
}
