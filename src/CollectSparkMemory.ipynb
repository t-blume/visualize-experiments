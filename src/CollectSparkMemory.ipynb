{
 "cells": [
  {
   "cell_type": "code",
   "execution_count": 1,
   "metadata": {},
   "outputs": [],
   "source": [
    "#!/usr/bin/python\n",
    "import json\n",
    "import sys\n",
    "from operator import itemgetter\n",
    "from os import listdir\n",
    "from os.path import isfile, join, isdir\n",
    "import pandas as pd\n",
    "\n",
    "import matplotlib.pyplot as plt"
   ]
  },
  {
   "cell_type": "code",
   "execution_count": 2,
   "metadata": {},
   "outputs": [],
   "source": [
    "def collectStatistics(analyze_app, event_dir='/tmp/spark-events', memory_dir='/tmp/spark-memory'):   \n",
    "    captions = [\"Iteration\",\n",
    "                \"Incremental Start\",\n",
    "                \"Incremental End\",\n",
    "                \"Incremental Duration\",\n",
    "                \"Batch Start\",\n",
    "                \"Batch End\",\n",
    "                \"Batch Duration\", \n",
    "                'Memory Min', \n",
    "                'Memory Max', \n",
    "                'Memory Mean', 'direct-used']\n",
    "\n",
    "    data_frame = pd.DataFrame(columns=captions)\n",
    "    data_frame.set_index('Iteration')\n",
    "\n",
    "    onlyfiles = [f for f in listdir(event_dir) if isfile(join(event_dir, f)) and 'inprogress' not in f]\n",
    "\n",
    "    for file in onlyfiles:\n",
    "        with open(join(event_dir, file)) as f:\n",
    "            \n",
    "            content = f.readlines()\n",
    "            batch_computation = False\n",
    "            iteration_number = -1\n",
    "            for line in content:\n",
    "                event = json.loads(line)\n",
    "\n",
    "                if event['Event'] == 'SparkListenerEnvironmentUpdate':\n",
    "                    app_name = event['Spark Properties']['spark.app.name']\n",
    "                    if app_name.startswith(analyze_app):\n",
    "                        version = app_name.replace(analyze_app, '')\n",
    "                        if not version:\n",
    "                            version = '0'\n",
    "                        if '_batch_' in version:\n",
    "                            batch_computation = True\n",
    "                            iteration_number = int(version.replace('_batch_', ''))\n",
    "                            if data_frame.loc[data_frame['Iteration'] == iteration_number].empty:\n",
    "                                data_frame.loc[len(data_frame)] = iteration_number\n",
    "\n",
    "                        else:\n",
    "                            batch_computation = False\n",
    "                            iteration_number = int(version)\n",
    "                            if data_frame.loc[data_frame['Iteration'] == iteration_number].empty:\n",
    "                                data_frame.loc[len(data_frame)] = iteration_number\n",
    "\n",
    "\n",
    "\n",
    "\n",
    "                if event['Event'] == 'SparkListenerJobStart':\n",
    "                    start = event['Submission Time']\n",
    "                    caption = 'Incremental Start'\n",
    "                    if batch_computation:\n",
    "                        caption = 'Batch Start'\n",
    "\n",
    "                    data_frame.loc[data_frame['Iteration'] == iteration_number, caption] = start\n",
    "\n",
    "                if event['Event'] == 'SparkListenerJobEnd':\n",
    "                    end = event['Completion Time']\n",
    "                    caption = 'Incremental End'\n",
    "                    if batch_computation:\n",
    "                        caption = 'Batch End'\n",
    "                    data_frame.loc[data_frame['Iteration'] == iteration_number, caption] = end\n",
    "                    \n",
    "            if isdir(memory_dir):\n",
    "                \"\"\"\n",
    "                 '.driver.jvm.heap.committed.csv',\n",
    "                 '.driver.jvm.heap.init.csv',\n",
    "                 '.driver.jvm.heap.max.csv',\n",
    "                 '.driver.jvm.heap.usage.csv',\n",
    "                 '.driver.jvm.heap.used.csv',\n",
    "                 .driver.BlockManager.memory.memUsed_MB.csv\n",
    "                \"\"\"\n",
    "                #mem_df = pd.read_csv(join(memory_dir, file + '.driver.jvm.heap.used.csv'))\n",
    "                #mem_df = pd.read_csv(join(memory_dir, file + '.driver.jvm.heap.usage.csv'))\n",
    "                try:\n",
    "                    mem_df = pd.read_csv(join(memory_dir, file + '.driver.BlockManager.memory.memUsed_MB.csv'))\n",
    "                    data_frame.loc[data_frame['Iteration'] == iteration_number, 'Memory Min'] = mem_df['value'].min()\n",
    "                    data_frame.loc[data_frame['Iteration'] == iteration_number, 'Memory Max'] = mem_df['value'].max()\n",
    "                    data_frame.loc[data_frame['Iteration'] == iteration_number, 'Memory Mean'] = mem_df['value'].mean()\n",
    "                    mem_df2 = pd.read_csv(join(memory_dir, file + '.driver.jvm.direct.used.csv'))\n",
    "                    data_frame.loc[data_frame['Iteration'] == iteration_number, 'direct-used'] = mem_df2['value'].mean()\n",
    "                except:\n",
    "                    continue\n",
    "                \n",
    "    data_frame['Incremental Duration'] = data_frame['Incremental End'] - data_frame['Incremental Start']\n",
    "    data_frame['Batch Duration'] = data_frame['Batch End'] - data_frame['Batch Start']\n",
    "\n",
    "    data_frame = data_frame.sort_values(['Iteration'], ascending=[True])\n",
    "    data_frame = data_frame.set_index('Iteration')\n",
    "    return data_frame"
   ]
  },
  {
   "cell_type": "code",
   "execution_count": 3,
   "metadata": {},
   "outputs": [],
   "source": [
    "def collect_logs(log_dir, app_name, suffixes=[]):\n",
    "    for suffix in suffixes:\n",
    "        test_name = app_name + suffix\n",
    "        in_dir = join(log_dir, test_name)\n",
    "        #onlyfiles = [f for f in listdir(in_dir) if isfile(join(in_dir, f))]\n",
    "        update_frame = pd.read_csv(join(in_dir, test_name + '-update-time-and-space.csv')) \n",
    "        #display(update_frame.head())\n",
    "        #plot_nice(update_frame, ' Sec. Index Memory Size (bytes)', y_label='Object Size (MB)', scale_function=lambda x: x / 1024 / 1024)\n",
    "        return update_frame"
   ]
  },
  {
   "cell_type": "code",
   "execution_count": 4,
   "metadata": {},
   "outputs": [],
   "source": [
    "def get_sizeframe(dataset_dir):\n",
    "\n",
    "    onlyfiles = [f for f in listdir(dataset_dir) if isfile(join(dataset_dir, f)) and f.endswith(\".txt\")]\n",
    "    onlyfiles = sorted(onlyfiles)\n",
    "\n",
    "    edgecounts = {}\n",
    "    sizes = {}\n",
    "    unzipped_sizes = {}\n",
    "    tmp = 0\n",
    "    for filename in onlyfiles:\n",
    "        # first line: number of types in dataset (not unique)\n",
    "        # second line: number of edges in dataset (not unique)\n",
    "        # third line size bytes\n",
    "        f = open(join(dataset_dir,filename), 'r')\n",
    "        content = f.read().split('\\n')\n",
    "        #print(len(content))\n",
    "        if len(content) > 2:\n",
    "            edges = int(content[1])\n",
    "        else:\n",
    "            edges = int(content[0])\n",
    "\n",
    "        size = int(content[2])\n",
    "\n",
    "        if len(content) > 4:\n",
    "            unzipped_size = int(content[3])\n",
    "\n",
    "        if 'iteration' in filename:\n",
    "            iteration = filename.replace('iteration', '')\n",
    "            iteration = iteration.replace('-', '')\n",
    "            iteration = iteration.replace('.txt', '')\n",
    "            iteration = iteration.replace('.gz', '')\n",
    "            iteration = iteration.replace('.nq', '')\n",
    "            iteration = iteration.replace('.nt', '')\n",
    "\n",
    "            edgecounts[int(iteration)] = edges\n",
    "            sizes[int(iteration)] = size\n",
    "            if len(content) > 4:\n",
    "                unzipped_sizes[int(iteration)] = unzipped_size\n",
    "\n",
    "        else:\n",
    "            edgecounts[tmp] = edges\n",
    "            sizes[tmp] = size\n",
    "            if len(content) > 4:\n",
    "                unzipped_sizes[tmp] = unzipped_size\n",
    "            tmp = tmp + 1\n",
    "\n",
    "    edgeframe = pd.DataFrame.from_dict(edgecounts, orient='index')\n",
    "    edgeframe = pd.DataFrame.sort_index(edgeframe)\n",
    "\n",
    "    if len(content) > 4:\n",
    "        sizeframe = pd.DataFrame.from_dict(unzipped_sizes, orient='index')\n",
    "    else:\n",
    "        sizeframe = pd.DataFrame.from_dict(sizes, orient='index')\n",
    "\n",
    "    sizeframe = pd.DataFrame.sort_index(sizeframe)\n",
    "\n",
    "    if data_size_dir == 'DyLDO-core':    \n",
    "        edgeframe = edgeframe.drop(edgeframe.index[[21,22]])\n",
    "        sizeframe = sizeframe.drop(sizeframe.index[[21,22]])\n",
    "\n",
    "    sizeframe = sizeframe.applymap(lambda x: x / 1024 / 1024) \n",
    "    if len(content) <= 4:\n",
    "        sizeframe = sizeframe.applymap(lambda x: x * 15) \n",
    "\n",
    "    sizeframe.columns=['Data Graph (Disk)']\n",
    "    return sizeframe"
   ]
  },
  {
   "cell_type": "code",
   "execution_count": 5,
   "metadata": {},
   "outputs": [],
   "source": [
    "out_dir = join('..', 'plots', 'memory_exp')\n",
    "event_dir = join('..', 'data', 'spark_logs-memory_exp')\n",
    "memory_dir = join(event_dir, 'spark-memory')\n",
    "exp_log_dir = join('..', 'data', 'exp_logs-memory_exp', 'experiments')\n"
   ]
  },
  {
   "cell_type": "code",
   "execution_count": 13,
   "metadata": {},
   "outputs": [],
   "source": [
    "data_dir = join('..', 'data', 'dataset_data')\n",
    "\n",
    "app_name = 'BSBM-type-memory'\n",
    "app_name = 'BSBM-schemex-memory'\n",
    "app_name = 'BSBM-attribute-memory'\n",
    "app_name = 'DyLDO-core-attribute-memory'\n",
    "#app_name = 'DyLDO-core-schemex-memory'\n",
    "\n",
    "data_size_dir = 'BSBM'\n",
    "data_size_dir = 'DyLDO-core'"
   ]
  },
  {
   "cell_type": "code",
   "execution_count": 14,
   "metadata": {},
   "outputs": [],
   "source": [
    "performance_frame = collectStatistics('%s-test-1' % app_name, event_dir, memory_dir)"
   ]
  },
  {
   "cell_type": "code",
   "execution_count": 15,
   "metadata": {},
   "outputs": [],
   "source": [
    "update_frame = collect_logs(exp_log_dir, app_name, suffixes=['-test-1'])"
   ]
  },
  {
   "cell_type": "code",
   "execution_count": 16,
   "metadata": {},
   "outputs": [],
   "source": [
    "size_frame = get_sizeframe(join(data_dir, data_size_dir))"
   ]
  },
  {
   "cell_type": "code",
   "execution_count": 17,
   "metadata": {},
   "outputs": [
    {
     "data": {
      "text/html": [
       "<div>\n",
       "<style scoped>\n",
       "    .dataframe tbody tr th:only-of-type {\n",
       "        vertical-align: middle;\n",
       "    }\n",
       "\n",
       "    .dataframe tbody tr th {\n",
       "        vertical-align: top;\n",
       "    }\n",
       "\n",
       "    .dataframe thead th {\n",
       "        text-align: right;\n",
       "    }\n",
       "</style>\n",
       "<table border=\"1\" class=\"dataframe\">\n",
       "  <thead>\n",
       "    <tr style=\"text-align: right;\">\n",
       "      <th></th>\n",
       "      <th>Data Graph (Disk)</th>\n",
       "      <th>Spark Memory</th>\n",
       "      <th>VHI Memory</th>\n",
       "    </tr>\n",
       "  </thead>\n",
       "  <tbody>\n",
       "    <tr>\n",
       "      <th>0</th>\n",
       "      <td>2405.307897</td>\n",
       "      <td>10820</td>\n",
       "      <td>924.033661</td>\n",
       "    </tr>\n",
       "    <tr>\n",
       "      <th>1</th>\n",
       "      <td>2306.354592</td>\n",
       "      <td>10462</td>\n",
       "      <td>872.276924</td>\n",
       "    </tr>\n",
       "    <tr>\n",
       "      <th>2</th>\n",
       "      <td>2790.347591</td>\n",
       "      <td>12831</td>\n",
       "      <td>971.989204</td>\n",
       "    </tr>\n",
       "    <tr>\n",
       "      <th>3</th>\n",
       "      <td>2722.321526</td>\n",
       "      <td>12454</td>\n",
       "      <td>968.275185</td>\n",
       "    </tr>\n",
       "    <tr>\n",
       "      <th>4</th>\n",
       "      <td>2383.698988</td>\n",
       "      <td>10772</td>\n",
       "      <td>927.657249</td>\n",
       "    </tr>\n",
       "  </tbody>\n",
       "</table>\n",
       "</div>"
      ],
      "text/plain": [
       "   Data Graph (Disk) Spark Memory  VHI Memory\n",
       "0        2405.307897        10820  924.033661\n",
       "1        2306.354592        10462  872.276924\n",
       "2        2790.347591        12831  971.989204\n",
       "3        2722.321526        12454  968.275185\n",
       "4        2383.698988        10772  927.657249"
      ]
     },
     "metadata": {},
     "output_type": "display_data"
    }
   ],
   "source": [
    "memory_frame = pd.DataFrame()\n",
    "memory_frame['Data Graph (Disk)'] = size_frame['Data Graph (Disk)']\n",
    "memory_frame['Spark Memory'] = performance_frame['Memory Max']\n",
    "memory_frame['VHI Memory'] = update_frame[' Sec. Index Memory Size (bytes)'].apply(lambda x: x / 1024 / 1024) \n",
    "#memory_frame = memory_frame.dropna()\n",
    "display(memory_frame.head())"
   ]
  },
  {
   "cell_type": "code",
   "execution_count": 18,
   "metadata": {},
   "outputs": [
    {
     "data": {
      "image/png": "[encoded data removed]",
      "text/plain": [
       "<Figure size 432x288 with 1 Axes>"
      ]
     },
     "metadata": {
      "needs_background": "light"
     },
     "output_type": "display_data"
    }
   ],
   "source": [
    "#print(edgeframe)\n",
    "ax = memory_frame.plot(logy=False, style=['--', '-', '-', '-'], color=['forestgreen', 'darkslateblue', 'indianred', 'steelblue'])\n",
    "                    \n",
    "#'steelblue', 'steelblue', 'steelblue','indianred','indianred','indianred','indianred']) \n",
    "\n",
    "ax.set_ylabel(\"Size (MB)\")\n",
    "ax.legend(loc='upper right')\n",
    "#ax = plot_frame.plot(logy=True, style=['-','--','-','--','-','--'], \n",
    "#color=['darkslateblue', 'darkslateblue', 'forestgreen', 'forestgreen', 'indianred', 'indianred'])\n",
    "\n",
    "ax.set_xlabel(\"GDB version\")\n",
    "ax.set_ylim([0, 18000])\n",
    "plt.savefig(out_dir + '/' + app_name + '.pdf', bbox_inches = 'tight')    \n",
    "plt.savefig(out_dir + '/' + app_name + '.png', bbox_inches = 'tight', dpi=300)   "
   ]
  },
  {
   "cell_type": "code",
   "execution_count": 19,
   "metadata": {},
   "outputs": [
    {
     "data": {
      "text/plain": [
       "'../plots/memory_exp'"
      ]
     },
     "execution_count": 19,
     "metadata": {},
     "output_type": "execute_result"
    }
   ],
   "source": [
    "out_dir"
   ]
  },
  {
   "cell_type": "code",
   "execution_count": 20,
   "metadata": {},
   "outputs": [
    {
     "name": "stdout",
     "output_type": "stream",
     "text": [
      "DyLDO-core-attribute-memory\n",
      "memory overhead is between 0.0688 and 0.0925 (mean: 0.0814 +- 0.0052)\n"
     ]
    }
   ],
   "source": [
    "overhead = memory_frame.dropna()['VHI Memory'] / memory_frame.dropna()['Spark Memory']\n",
    "#display(overhead)\n",
    "print(app_name)\n",
    "print('memory overhead is between %.4f and %.4f (mean: %.4f +- %.4f)' % (overhead.min(), \n",
    "                                                                         overhead.max(), \n",
    "                                                                         overhead.mean(), \n",
    "                                                                         overhead.std()))"
   ]
  },
  {
   "cell_type": "code",
   "execution_count": null,
   "metadata": {},
   "outputs": [],
   "source": []
  },
  {
   "cell_type": "code",
   "execution_count": 21,
   "metadata": {},
   "outputs": [
    {
     "name": "stdout",
     "output_type": "stream",
     "text": [
      "DyLDO-core-attribute-memory\n",
      "Memory per Disk space: 4.44 (+- 0.12)\n"
     ]
    }
   ],
   "source": [
    "disk_vs_memory = memory_frame['Spark Memory'] / memory_frame['Data Graph (Disk)']\n",
    "print(app_name)\n",
    "print('Memory per Disk space: %s (+- %s)' % (round(disk_vs_memory.mean(), 2), round(disk_vs_memory.std(), 2)))"
   ]
  },
  {
   "cell_type": "code",
   "execution_count": null,
   "metadata": {},
   "outputs": [],
   "source": []
  }
 ],
 "metadata": {
  "kernelspec": {
   "display_name": "Python 3",
   "language": "python",
   "name": "python3"
  },
  "language_info": {
   "codemirror_mode": {
    "name": "ipython",
    "version": 3
   },
   "file_extension": ".py",
   "mimetype": "text/x-python",
   "name": "python",
   "nbconvert_exporter": "python",
   "pygments_lexer": "ipython3",
   "version": "3.8.6"
  }
 },
 "nbformat": 4,
 "nbformat_minor": 4
}
