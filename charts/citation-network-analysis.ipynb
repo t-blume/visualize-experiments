{
 "cells": [
  {
   "cell_type": "code",
   "execution_count": null,
   "metadata": {},
   "outputs": [],
   "source": [
    "import json\n",
    "import os\n",
    "import pickle\n",
    "import gzip\n",
    "import pandas as pd\n",
    "import matplotlib.pyplot as plt\n",
    "import matplotlib\n",
    "import tabulate\n",
    "import numpy as np\n",
    "import math\n",
    "\n",
    "from itertools import cycle, islice\n"
   ]
  },
  {
   "cell_type": "code",
   "execution_count": null,
   "metadata": {},
   "outputs": [],
   "source": [
    "fig_width = 8\n",
    "fig_height = 5\n",
    "\n",
    "params = {\n",
    "    'axes.labelsize': 12, # fontsize for x and y labels (was 10)\n",
    "    'axes.titlesize': 12,\n",
    "    #'text.fontsize': 8, # was 10\n",
    "    'legend.fontsize': 12, # was 10\n",
    "    'xtick.labelsize': 12,\n",
    "    'ytick.labelsize': 12,\n",
    "    'text.usetex': False,\n",
    "    'figure.figsize': [fig_width,fig_height],\n",
    "    'font.family': 'serif',\n",
    "    'grid.linestyle': '--',\n",
    "}\n",
    "\n",
    "matplotlib.rcParams.update(params)"
   ]
  },
  {
   "cell_type": "code",
   "execution_count": null,
   "metadata": {},
   "outputs": [],
   "source": [
    "data_dir = 'priv_data'\n",
    "out_dir = 'out'\n",
    "appname = 'cumulated_citation-network-v1_schemex-test-1'\n",
    "appname = 'citation-network_schemex-test-1'\n",
    "appname = 'cumulated_citation-network-v11_schemex-test-1'\n",
    "suffix = ''"
   ]
  },
  {
   "cell_type": "code",
   "execution_count": null,
   "metadata": {
    "scrolled": true
   },
   "outputs": [],
   "source": [
    "iterations = 10\n",
    "\n",
    "cumulated = {}\n",
    "for i in range(0, iterations):\n",
    "    with open(os.path.join(data_dir, appname + '-completenessAnalysisExport'+str(i)+'.csv'), 'r') as f:\n",
    "        df = pd.read_csv(f, sep=',')\n",
    "    df.head()\n",
    "    \n",
    "    for index, row in df.iterrows():\n",
    "        key = str(row['Schema hash'])\n",
    "        value = str(row['instance count'])\n",
    "        \n",
    "        if key in cumulated:\n",
    "            tmp = cumulated[key]\n",
    "            tmp[i] = value\n",
    "        else:\n",
    "            tmp = {}\n",
    "            tmp[i] = value\n",
    "        cumulated[key] = tmp\n"
   ]
  },
  {
   "cell_type": "code",
   "execution_count": null,
   "metadata": {},
   "outputs": [],
   "source": [
    "with open(os.path.join(data_dir, appname + '-schemaInfoExport.csv'), 'r') as f:\n",
    "    schemaFrame = pd.read_csv(f, sep=',')\n",
    "schemaFrame.head()\n",
    "#schemaFrame.set_index('Schema hash')\n",
    "print(schemaFrame)\n"
   ]
  },
  {
   "cell_type": "code",
   "execution_count": null,
   "metadata": {},
   "outputs": [],
   "source": [
    "#print(cumulated)\n",
    "df = pd.DataFrame()\n",
    "for item in cumulated.items():\n",
    "    values = buckets = [0] * iterations\n",
    "    for i in range(0, iterations):\n",
    "        if i in item[1]:\n",
    "            values[i] = int(item[1][i])\n",
    "    tmp = schemaFrame.loc[schemaFrame['Schema hash'] == int(item[0])]\n",
    "    name = 'T:' + str(tmp['Type count'].item()) + ', P:' + str(tmp['Property count'].item())\n",
    "    df[item[0] + ' -- ' + name] = values\n",
    "    \n",
    "#print(df)"
   ]
  },
  {
   "cell_type": "code",
   "execution_count": null,
   "metadata": {},
   "outputs": [],
   "source": [
    "ax = df.plot(logy=False)#,yticks=([math.exp(w) for w in np.arange(1, 10, 2)]))\n",
    "#ax.set_ylim([2500, 80000])\n",
    "#plt.yticks(np.arange(0, iterations, 5.0))\n",
    "#plt.\n",
    "plt.xticks(np.arange(0, iterations, 1.0))\n",
    "ax.legend(loc='upper center', bbox_to_anchor=(0.5, 1.4), shadow=True, ncol=4)\n",
    "plt.grid(True)\n",
    "plt.savefig(out_dir + '/' + appname + '-analysis.png')"
   ]
  },
  {
   "cell_type": "code",
   "execution_count": null,
   "metadata": {},
   "outputs": [],
   "source": []
  },
  {
   "cell_type": "code",
   "execution_count": null,
   "metadata": {},
   "outputs": [],
   "source": []
  },
  {
   "cell_type": "code",
   "execution_count": null,
   "metadata": {},
   "outputs": [],
   "source": []
  },
  {
   "cell_type": "code",
   "execution_count": null,
   "metadata": {},
   "outputs": [],
   "source": []
  }
 ],
 "metadata": {
  "kernelspec": {
   "display_name": "Python 3",
   "language": "python",
   "name": "python3"
  },
  "language_info": {
   "codemirror_mode": {
    "name": "ipython",
    "version": 3
   },
   "file_extension": ".py",
   "mimetype": "text/x-python",
   "name": "python",
   "nbconvert_exporter": "python",
   "pygments_lexer": "ipython3",
   "version": "3.5.2"
  }
 },
 "nbformat": 4,
 "nbformat_minor": 2
}
