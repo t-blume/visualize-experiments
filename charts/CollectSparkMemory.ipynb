{
 "cells": [
  {
   "cell_type": "code",
   "execution_count": 1,
   "metadata": {},
   "outputs": [],
   "source": [
    "#!/usr/bin/python\n",
    "import json\n",
    "import sys\n",
    "from operator import itemgetter\n",
    "from os import listdir\n",
    "from os.path import isfile, join, isdir\n",
    "import pandas as pd\n",
    "\n",
    "import matplotlib.pyplot as plt"
   ]
  },
  {
   "cell_type": "code",
   "execution_count": 2,
   "metadata": {},
   "outputs": [],
   "source": [
    "def collectStatistics(analyze_app, event_dir='/tmp/spark-events', memory_dir='/tmp/spark-memory'):   \n",
    "    captions = [\"Iteration\",\n",
    "                \"Incremental Start\",\n",
    "                \"Incremental End\",\n",
    "                \"Incremental Duration\",\n",
    "                \"Batch Start\",\n",
    "                \"Batch End\",\n",
    "                \"Batch Duration\", \n",
    "                'Memory Min', \n",
    "                'Memory Max', \n",
    "                'Memory Mean', 'direct-used']\n",
    "\n",
    "    data_frame = pd.DataFrame(columns=captions)\n",
    "    data_frame.set_index('Iteration')\n",
    "\n",
    "    onlyfiles = [f for f in listdir(event_dir) if isfile(join(event_dir, f)) and 'inprogress' not in f]\n",
    "\n",
    "    for file in onlyfiles:\n",
    "        with open(join(event_dir, file)) as f:\n",
    "            \n",
    "            content = f.readlines()\n",
    "            batch_computation = False\n",
    "            iteration_number = -1\n",
    "            for line in content:\n",
    "                event = json.loads(line)\n",
    "\n",
    "                if event['Event'] == 'SparkListenerEnvironmentUpdate':\n",
    "                    app_name = event['Spark Properties']['spark.app.name']\n",
    "                    if app_name.startswith(analyze_app):\n",
    "                        version = app_name.replace(analyze_app, '')\n",
    "                        if not version:\n",
    "                            version = '0'\n",
    "                        if '_batch_' in version:\n",
    "                            batch_computation = True\n",
    "                            iteration_number = int(version.replace('_batch_', ''))\n",
    "                            if data_frame.loc[data_frame['Iteration'] == iteration_number].empty:\n",
    "                                data_frame.loc[len(data_frame)] = iteration_number\n",
    "\n",
    "                        else:\n",
    "                            batch_computation = False\n",
    "                            iteration_number = int(version)\n",
    "                            if data_frame.loc[data_frame['Iteration'] == iteration_number].empty:\n",
    "                                data_frame.loc[len(data_frame)] = iteration_number\n",
    "\n",
    "\n",
    "\n",
    "\n",
    "                if event['Event'] == 'SparkListenerJobStart':\n",
    "                    start = event['Submission Time']\n",
    "                    caption = 'Incremental Start'\n",
    "                    if batch_computation:\n",
    "                        caption = 'Batch Start'\n",
    "\n",
    "                    data_frame.loc[data_frame['Iteration'] == iteration_number, caption] = start\n",
    "\n",
    "                if event['Event'] == 'SparkListenerJobEnd':\n",
    "                    end = event['Completion Time']\n",
    "                    caption = 'Incremental End'\n",
    "                    if batch_computation:\n",
    "                        caption = 'Batch End'\n",
    "                    data_frame.loc[data_frame['Iteration'] == iteration_number, caption] = end\n",
    "                    \n",
    "            if isdir(memory_dir):\n",
    "                \"\"\"\n",
    "                 '.driver.jvm.heap.committed.csv',\n",
    "                 '.driver.jvm.heap.init.csv',\n",
    "                 '.driver.jvm.heap.max.csv',\n",
    "                 '.driver.jvm.heap.usage.csv',\n",
    "                 '.driver.jvm.heap.used.csv',\n",
    "                 .driver.BlockManager.memory.memUsed_MB.csv\n",
    "                \"\"\"\n",
    "                #mem_df = pd.read_csv(join(memory_dir, file + '.driver.jvm.heap.used.csv'))\n",
    "                #mem_df = pd.read_csv(join(memory_dir, file + '.driver.jvm.heap.usage.csv'))\n",
    "                try:\n",
    "                    mem_df = pd.read_csv(join(memory_dir, file + '.driver.BlockManager.memory.memUsed_MB.csv'))\n",
    "                    data_frame.loc[data_frame['Iteration'] == iteration_number, 'Memory Min'] = mem_df['value'].min()\n",
    "                    data_frame.loc[data_frame['Iteration'] == iteration_number, 'Memory Max'] = mem_df['value'].max()\n",
    "                    data_frame.loc[data_frame['Iteration'] == iteration_number, 'Memory Mean'] = mem_df['value'].mean()\n",
    "                    mem_df2 = pd.read_csv(join(memory_dir, file + '.driver.jvm.direct.used.csv'))\n",
    "                    data_frame.loc[data_frame['Iteration'] == iteration_number, 'direct-used'] = mem_df2['value'].mean()\n",
    "                except:\n",
    "                    continue\n",
    "                \n",
    "    data_frame['Incremental Duration'] = data_frame['Incremental End'] - data_frame['Incremental Start']\n",
    "    data_frame['Batch Duration'] = data_frame['Batch End'] - data_frame['Batch Start']\n",
    "\n",
    "    data_frame = data_frame.sort_values(['Iteration'], ascending=[True])\n",
    "    data_frame = data_frame.set_index('Iteration')\n",
    "    return data_frame"
   ]
  },
  {
   "cell_type": "code",
   "execution_count": 24,
   "metadata": {},
   "outputs": [],
   "source": [
    "def collect_logs(log_dir, app_name, suffixes=[]):\n",
    "    for suffix in suffixes:\n",
    "        test_name = app_name + suffix\n",
    "        in_dir = join(log_dir, test_name)\n",
    "        #onlyfiles = [f for f in listdir(in_dir) if isfile(join(in_dir, f))]\n",
    "        update_frame = pd.read_csv(join(in_dir, test_name + '-update-time-and-space.csv')) \n",
    "        #display(update_frame.head())\n",
    "        #plot_nice(update_frame, ' Sec. Index Memory Size (bytes)', y_label='Object Size (MB)', scale_function=lambda x: x / 1024 / 1024)\n",
    "        return update_frame"
   ]
  },
  {
   "cell_type": "code",
   "execution_count": 37,
   "metadata": {},
   "outputs": [],
   "source": [
    "def get_sizeframe(dataset_dir):\n",
    "\n",
    "    onlyfiles = [f for f in listdir(dataset_dir) if isfile(join(dataset_dir, f)) and f.endswith(\".txt\")]\n",
    "    onlyfiles = sorted(onlyfiles)\n",
    "\n",
    "    edgecounts = {}\n",
    "    sizes = {}\n",
    "    unzipped_sizes = {}\n",
    "    tmp = 0\n",
    "    for filename in onlyfiles:\n",
    "        # first line: number of types in dataset (not unique)\n",
    "        # second line: number of edges in dataset (not unique)\n",
    "        # third line size bytes\n",
    "        f = open(join(dataset_dir,filename), 'r')\n",
    "        content = f.read().split('\\n')\n",
    "        #print(len(content))\n",
    "        if len(content) > 2:\n",
    "            edges = int(content[1])\n",
    "        else:\n",
    "            edges = int(content[0])\n",
    "\n",
    "        size = int(content[2])\n",
    "\n",
    "        if len(content) > 4:\n",
    "            unzipped_size = int(content[3])\n",
    "\n",
    "        if 'iteration' in filename:\n",
    "            iteration = filename.replace('iteration', '')\n",
    "            iteration = iteration.replace('-', '')\n",
    "            iteration = iteration.replace('.txt', '')\n",
    "            iteration = iteration.replace('.gz', '')\n",
    "            iteration = iteration.replace('.nq', '')\n",
    "            iteration = iteration.replace('.nt', '')\n",
    "\n",
    "            edgecounts[int(iteration)] = edges\n",
    "            sizes[int(iteration)] = size\n",
    "            if len(content) > 4:\n",
    "                unzipped_sizes[int(iteration)] = unzipped_size\n",
    "\n",
    "        else:\n",
    "            edgecounts[tmp] = edges\n",
    "            sizes[tmp] = size\n",
    "            if len(content) > 4:\n",
    "                unzipped_sizes[tmp] = unzipped_size\n",
    "            tmp = tmp + 1\n",
    "\n",
    "    edgeframe = pd.DataFrame.from_dict(edgecounts, orient='index')\n",
    "    edgeframe = pd.DataFrame.sort_index(edgeframe)\n",
    "\n",
    "    if len(content) > 4:\n",
    "        sizeframe = pd.DataFrame.from_dict(unzipped_sizes, orient='index')\n",
    "    else:\n",
    "        sizeframe = pd.DataFrame.from_dict(sizes, orient='index')\n",
    "\n",
    "    sizeframe = pd.DataFrame.sort_index(sizeframe)\n",
    "\n",
    "    if data_size_dir == 'DyLDO-core':    \n",
    "        edgeframe = edgeframe.drop(edgeframe.index[[21,22]])\n",
    "        sizeframe = sizeframe.drop(sizeframe.index[[21,22]])\n",
    "\n",
    "    sizeframe = sizeframe.applymap(lambda x: x / 1024 / 1024) \n",
    "    if len(content) <= 4:\n",
    "        sizeframe = sizeframe.applymap(lambda x: x * 15) \n",
    "\n",
    "    sizeframe.columns=['Data Graph (Disk)']\n",
    "    return sizeframe"
   ]
  },
  {
   "cell_type": "code",
   "execution_count": 66,
   "metadata": {},
   "outputs": [],
   "source": [
    "out_dir = join('..', 'plots', 'memory-exp')\n",
    "event_dir = join('..', 'data', 'spark-logs-memory-exp')\n",
    "memory_dir = join(event_dir, 'spark-memory')\n",
    "exp_log_dir = join('..', 'data', 'exp-logs-memory-exp', 'experiments')\n"
   ]
  },
  {
   "cell_type": "code",
   "execution_count": 70,
   "metadata": {},
   "outputs": [],
   "source": [
    "data_dir = join('..', 'data', 'dataset_data')\n",
    "\n",
    "app_name = 'BSBM-type-memory'\n",
    "app_name = 'BSBM-schemex-memory'\n",
    "app_name = 'BSBM-attribute-memory'\n",
    "app_name = 'DyLDO-core-attribute-memory'\n",
    "\n",
    "data_size_dir = 'BSBM'\n",
    "data_size_dir = 'DyLDO-core'"
   ]
  },
  {
   "cell_type": "code",
   "execution_count": 71,
   "metadata": {},
   "outputs": [],
   "source": [
    "performance_frame = collectStatistics('%s-test-1' % app_name, event_dir, memory_dir)"
   ]
  },
  {
   "cell_type": "code",
   "execution_count": 72,
   "metadata": {},
   "outputs": [],
   "source": [
    "update_frame = collect_logs(exp_log_dir, app_name, suffixes=['-test-1'])"
   ]
  },
  {
   "cell_type": "code",
   "execution_count": 73,
   "metadata": {},
   "outputs": [],
   "source": [
    "size_frame = get_sizeframe(join(data_dir, data_size_dir))"
   ]
  },
  {
   "cell_type": "code",
   "execution_count": 74,
   "metadata": {},
   "outputs": [
    {
     "data": {
      "text/html": [
       "<div>\n",
       "<style scoped>\n",
       "    .dataframe tbody tr th:only-of-type {\n",
       "        vertical-align: middle;\n",
       "    }\n",
       "\n",
       "    .dataframe tbody tr th {\n",
       "        vertical-align: top;\n",
       "    }\n",
       "\n",
       "    .dataframe thead th {\n",
       "        text-align: right;\n",
       "    }\n",
       "</style>\n",
       "<table border=\"1\" class=\"dataframe\">\n",
       "  <thead>\n",
       "    <tr style=\"text-align: right;\">\n",
       "      <th></th>\n",
       "      <th>Data Graph (Disk)</th>\n",
       "      <th>Spark Memory</th>\n",
       "      <th>VHI Memory</th>\n",
       "    </tr>\n",
       "  </thead>\n",
       "  <tbody>\n",
       "    <tr>\n",
       "      <th>0</th>\n",
       "      <td>2405.307897</td>\n",
       "      <td>10820</td>\n",
       "      <td>915.613098</td>\n",
       "    </tr>\n",
       "    <tr>\n",
       "      <th>1</th>\n",
       "      <td>2306.354592</td>\n",
       "      <td>10462</td>\n",
       "      <td>863.868080</td>\n",
       "    </tr>\n",
       "    <tr>\n",
       "      <th>2</th>\n",
       "      <td>2790.347591</td>\n",
       "      <td>12831</td>\n",
       "      <td>963.562164</td>\n",
       "    </tr>\n",
       "    <tr>\n",
       "      <th>3</th>\n",
       "      <td>2722.321526</td>\n",
       "      <td>12454</td>\n",
       "      <td>959.856270</td>\n",
       "    </tr>\n",
       "    <tr>\n",
       "      <th>4</th>\n",
       "      <td>2383.698988</td>\n",
       "      <td>10772</td>\n",
       "      <td>919.239342</td>\n",
       "    </tr>\n",
       "  </tbody>\n",
       "</table>\n",
       "</div>"
      ],
      "text/plain": [
       "   Data Graph (Disk) Spark Memory  VHI Memory\n",
       "0        2405.307897        10820  915.613098\n",
       "1        2306.354592        10462  863.868080\n",
       "2        2790.347591        12831  963.562164\n",
       "3        2722.321526        12454  959.856270\n",
       "4        2383.698988        10772  919.239342"
      ]
     },
     "metadata": {},
     "output_type": "display_data"
    }
   ],
   "source": [
    "memory_frame = pd.DataFrame()\n",
    "memory_frame['Data Graph (Disk)'] = size_frame['Data Graph (Disk)']\n",
    "memory_frame['Spark Memory'] = performance_frame['Memory Max']\n",
    "memory_frame['VHI Memory'] = update_frame[' Sec. Index Memory Size (bytes)'].apply(lambda x: x / 1024 / 1024) \n",
    "memory_frame = memory_frame.dropna()\n",
    "display(memory_frame.head())"
   ]
  },
  {
   "cell_type": "code",
   "execution_count": 75,
   "metadata": {},
   "outputs": [
    {
     "data": {
      "image/png": "[encoded data removed]",
      "text/plain": [
       "<Figure size 432x288 with 1 Axes>"
      ]
     },
     "metadata": {
      "needs_background": "light"
     },
     "output_type": "display_data"
    }
   ],
   "source": [
    "#print(edgeframe)\n",
    "ax = memory_frame.plot(logy=False, style=['--', '-', '-', '-'], color=['forestgreen', 'darkslateblue', 'indianred', 'steelblue'])\n",
    "                    \n",
    "#'steelblue', 'steelblue', 'steelblue','indianred','indianred','indianred','indianred']) \n",
    "\n",
    "ax.set_ylabel(\"Size (MB)\")\n",
    "ax.legend(loc='upper right')\n",
    "#ax = plot_frame.plot(logy=True, style=['-','--','-','--','-','--'], \n",
    "#color=['darkslateblue', 'darkslateblue', 'forestgreen', 'forestgreen', 'indianred', 'indianred'])\n",
    "\n",
    "ax.set_xlabel(\"GDB version\")\n",
    "ax.set_ylim([0, 18000])\n",
    "plt.savefig(out_dir + '/' + app_name + '.pdf', bbox_inches = 'tight')    \n",
    "plt.savefig(out_dir + '/' + app_name + '.png', bbox_inches = 'tight')   "
   ]
  },
  {
   "cell_type": "code",
   "execution_count": 76,
   "metadata": {},
   "outputs": [
    {
     "data": {
      "text/plain": [
       "'../plots/memory-exp'"
      ]
     },
     "execution_count": 76,
     "metadata": {},
     "output_type": "execute_result"
    }
   ],
   "source": [
    "out_dir"
   ]
  },
  {
   "cell_type": "code",
   "execution_count": 77,
   "metadata": {},
   "outputs": [
    {
     "name": "stdout",
     "output_type": "stream",
     "text": [
      "DyLDO-core-attribute-memory\n",
      "memory overhead is between 0.0721 and 0.0902 (mean: 0.0811 +- 0.0056)\n"
     ]
    }
   ],
   "source": [
    "overhead = memory_frame.dropna()['VHI Memory'] / memory_frame.dropna()['Spark Memory']\n",
    "#display(overhead)\n",
    "print(app_name)\n",
    "print('memory overhead is between %.4f and %.4f (mean: %.4f +- %.4f)' % (overhead.min(), \n",
    "                                                                         overhead.max(), \n",
    "                                                                         overhead.mean(), \n",
    "                                                                         overhead.std()))"
   ]
  },
  {
   "cell_type": "code",
   "execution_count": null,
   "metadata": {},
   "outputs": [],
   "source": []
  },
  {
   "cell_type": "code",
   "execution_count": 78,
   "metadata": {},
   "outputs": [
    {
     "name": "stdout",
     "output_type": "stream",
     "text": [
      "DyLDO-core-attribute-memory\n",
      "Memory per Disk space: 4.54 (+- 0.06)\n"
     ]
    }
   ],
   "source": [
    "disk_vs_memory = memory_frame['Spark Memory'] / memory_frame['Data Graph (Disk)']\n",
    "print(app_name)\n",
    "print('Memory per Disk space: %s (+- %s)' % (round(disk_vs_memory.mean(), 2), round(disk_vs_memory.std(), 2)))"
   ]
  },
  {
   "cell_type": "code",
   "execution_count": 459,
   "metadata": {},
   "outputs": [
    {
     "data": {
      "image/png": "[encoded data removed]",
      "text/plain": [
       "<Figure size 432x288 with 1 Axes>"
      ]
     },
     "metadata": {
      "needs_background": "light"
     },
     "output_type": "display_data"
    }
   ],
   "source": [
    "# plot paper\n",
    "\n",
    "\n",
    "def plot_paper(res_frame, y_label='Megabytes'):\n",
    "    # bytes -> kilo bytes -> mega bytes -> giga bytes \n",
    "    metric = ['Memory Mean', 'Memory Max']\n",
    "    #ax = plot_frame.plot(logy=True, style=['-','--','-','--','-','--'], \n",
    "    #color=['darkslateblue', 'darkslateblue', 'forestgreen', 'forestgreen', 'indianred', 'indianred'])\n",
    "\n",
    "    ax = res_frame[metric].plot(logy=False, style=['-','--'], color=['darkslateblue', 'indianred'])\n",
    "    ax.set_xlabel(\"GDB version\")\n",
    "    ax.set_ylabel(y_label)\n",
    "    ax.set_ylim([0, 16000])\n",
    "    \n",
    "    \n",
    "plot_paper(test1, y_label='Memory Consumption (MB)')\n",
    "plt.grid(True)"
   ]
  },
  {
   "cell_type": "code",
   "execution_count": 507,
   "metadata": {},
   "outputs": [
    {
     "data": {
      "text/plain": [
       "0     915.613098\n",
       "1     863.868080\n",
       "2     963.562164\n",
       "3     959.856270\n",
       "4     919.239342\n",
       "5     892.404266\n",
       "6     955.920280\n",
       "7     928.781120\n",
       "8     960.909546\n",
       "9     846.121048\n",
       "10    975.534760\n",
       "11    853.670311\n",
       "12    928.693611\n",
       "13    877.919830\n",
       "14    803.026337\n",
       "15    951.378532\n",
       "16    922.354790\n",
       "17    922.025185\n",
       "18    924.019539\n",
       "19    878.564384\n",
       "20    734.837395\n",
       "Name:  Sec. Index Memory Size (bytes), dtype: float64"
      ]
     },
     "execution_count": 507,
     "metadata": {},
     "output_type": "execute_result"
    }
   ],
   "source": [
    "secondary_series = update_frame[' Sec. Index Memory Size (bytes)'].apply(lambda x: x / 1024 / 1024)\n",
    "secondary_series"
   ]
  },
  {
   "cell_type": "code",
   "execution_count": 509,
   "metadata": {},
   "outputs": [
    {
     "data": {
      "text/plain": [
       "59.322360819842885"
      ]
     },
     "execution_count": 509,
     "metadata": {},
     "output_type": "execute_result"
    }
   ],
   "source": [
    "secondary_series.std()"
   ]
  },
  {
   "cell_type": "code",
   "execution_count": 448,
   "metadata": {},
   "outputs": [
    {
     "data": {
      "text/plain": [
       "Iteration\n",
       "0        77.000000\n",
       "1       755.000000\n",
       "2      1439.000000\n",
       "3      2282.000000\n",
       "4      2995.000000\n",
       "5      3742.000000\n",
       "6      4413.000000\n",
       "7      5154.000000\n",
       "8      5844.000000\n",
       "9      6668.000000\n",
       "10     7443.000000\n",
       "11     6090.750000\n",
       "12     6673.500000\n",
       "13     7126.500000\n",
       "14     7709.250000\n",
       "15     8917.600000\n",
       "16     8966.250000\n",
       "17     9266.250000\n",
       "18    10954.400000\n",
       "19    11880.000000\n",
       "20    11133.000000\n",
       "21    14364.452261\n",
       "22    13611.005988\n",
       "23     9884.000000\n",
       "24     9564.000000\n",
       "25     8360.250000\n",
       "26     7709.250000\n",
       "27     9435.084507\n",
       "28     8832.088889\n",
       "29     6890.500000\n",
       "30     5963.666667\n",
       "31     6668.000000\n",
       "32     5844.000000\n",
       "33     5154.000000\n",
       "34     4413.000000\n",
       "35     3742.000000\n",
       "36     2995.000000\n",
       "37     2282.000000\n",
       "38     1439.000000\n",
       "39      755.000000\n",
       "40       77.000000\n",
       "Name: Memory Mean, dtype: float64"
      ]
     },
     "execution_count": 448,
     "metadata": {},
     "output_type": "execute_result"
    }
   ],
   "source": [
    "primary_series = test1['Memory Mean']\n",
    "primary_series"
   ]
  },
  {
   "cell_type": "code",
   "execution_count": 473,
   "metadata": {},
   "outputs": [
    {
     "name": "stdout",
     "output_type": "stream",
     "text": [
      "BSBM-attribute-memory\n",
      "memory overhead is between 0.0214 and 0.0298 (mean: 0.0246 +- 0.0031)\n"
     ]
    }
   ],
   "source": [
    "overhead = secondary_series / primary_series\n",
    "#display(overhead)\n",
    "print(app_name)\n",
    "print('memory overhead is between %.4f and %.4f (mean: %.4f +- %.4f)' % (overhead.min(), \n",
    "                                                                         overhead.max(), \n",
    "                                                                         overhead.mean(), \n",
    "                                                                         overhead.std()))\n"
   ]
  },
  {
   "cell_type": "code",
   "execution_count": null,
   "metadata": {},
   "outputs": [],
   "source": []
  },
  {
   "cell_type": "code",
   "execution_count": null,
   "metadata": {},
   "outputs": [],
   "source": []
  },
  {
   "cell_type": "code",
   "execution_count": 26,
   "metadata": {},
   "outputs": [],
   "source": []
  },
  {
   "cell_type": "code",
   "execution_count": 55,
   "metadata": {},
   "outputs": [],
   "source": [
    "tests = [test1, test2, test3]"
   ]
  },
  {
   "cell_type": "code",
   "execution_count": 56,
   "metadata": {},
   "outputs": [],
   "source": [
    "def mean_frames(data_frames):\n",
    "    aggregated = data_frames[0].copy()\n",
    "    for i in range(1, len(data_frames)):\n",
    "        for label, content in data_frames[i].items():\n",
    "            if not label == 'Iteration':\n",
    "                for i in range(0, len(content)):\n",
    "                    aggregated.at[i, label] = aggregated.at[i, label] + content[i]\n",
    "\n",
    "    # divide all values\n",
    "    for label, content in aggregated.items():\n",
    "        if not label == 'Iteration':\n",
    "            for i in range(0, len(content)):\n",
    "                aggregated.at[i, label] = aggregated.at[i, label] / len(tests)\n",
    "    return aggregated\n",
    "\n",
    "def min_frames(data_frames):\n",
    "    aggregated = data_frames[0].copy()\n",
    "    for i in range(1, len(data_frames)):\n",
    "        for label, content in data_frames[i].items():\n",
    "            if not label == 'Iteration':\n",
    "                for i in range(0, len(content)):\n",
    "                    aggregated.at[i, label] = min(aggregated.at[i, label], content[i])\n",
    "\n",
    "    return aggregated"
   ]
  },
  {
   "cell_type": "code",
   "execution_count": null,
   "metadata": {},
   "outputs": [],
   "source": []
  },
  {
   "cell_type": "code",
   "execution_count": null,
   "metadata": {},
   "outputs": [],
   "source": []
  },
  {
   "cell_type": "code",
   "execution_count": 386,
   "metadata": {},
   "outputs": [],
   "source": [
    "import re\n",
    "onlyfiles = [re.sub('local-[0-9]+', '', f) for f in listdir(memory_dir) if isfile(join(memory_dir, f))]\n",
    "#display(onlyfiles)\n"
   ]
  },
  {
   "cell_type": "code",
   "execution_count": 62,
   "metadata": {},
   "outputs": [],
   "source": [
    "types = set(onlyfiles)"
   ]
  },
  {
   "cell_type": "code",
   "execution_count": 385,
   "metadata": {},
   "outputs": [],
   "source": [
    "#display(types)"
   ]
  },
  {
   "cell_type": "code",
   "execution_count": 480,
   "metadata": {},
   "outputs": [],
   "source": []
  },
  {
   "cell_type": "code",
   "execution_count": 481,
   "metadata": {},
   "outputs": [],
   "source": []
  },
  {
   "cell_type": "code",
   "execution_count": null,
   "metadata": {},
   "outputs": [],
   "source": []
  },
  {
   "cell_type": "code",
   "execution_count": 482,
   "metadata": {},
   "outputs": [],
   "source": []
  },
  {
   "cell_type": "code",
   "execution_count": 483,
   "metadata": {},
   "outputs": [
    {
     "data": {
      "text/html": [
       "<div>\n",
       "<style scoped>\n",
       "    .dataframe tbody tr th:only-of-type {\n",
       "        vertical-align: middle;\n",
       "    }\n",
       "\n",
       "    .dataframe tbody tr th {\n",
       "        vertical-align: top;\n",
       "    }\n",
       "\n",
       "    .dataframe thead th {\n",
       "        text-align: right;\n",
       "    }\n",
       "</style>\n",
       "<table border=\"1\" class=\"dataframe\">\n",
       "  <thead>\n",
       "    <tr style=\"text-align: right;\">\n",
       "      <th></th>\n",
       "      <th>Data Graph (Disk)</th>\n",
       "      <th>Spark Memory</th>\n",
       "      <th>VHI Memory</th>\n",
       "    </tr>\n",
       "  </thead>\n",
       "  <tbody>\n",
       "    <tr>\n",
       "      <th>0</th>\n",
       "      <td>2405.307897</td>\n",
       "      <td>10820.0</td>\n",
       "      <td>915.613098</td>\n",
       "    </tr>\n",
       "    <tr>\n",
       "      <th>1</th>\n",
       "      <td>2306.354592</td>\n",
       "      <td>10462.0</td>\n",
       "      <td>863.868080</td>\n",
       "    </tr>\n",
       "    <tr>\n",
       "      <th>2</th>\n",
       "      <td>2790.347591</td>\n",
       "      <td>12831.0</td>\n",
       "      <td>963.562164</td>\n",
       "    </tr>\n",
       "    <tr>\n",
       "      <th>3</th>\n",
       "      <td>2722.321526</td>\n",
       "      <td>12454.0</td>\n",
       "      <td>959.856270</td>\n",
       "    </tr>\n",
       "    <tr>\n",
       "      <th>4</th>\n",
       "      <td>2383.698988</td>\n",
       "      <td>10772.0</td>\n",
       "      <td>919.239342</td>\n",
       "    </tr>\n",
       "    <tr>\n",
       "      <th>5</th>\n",
       "      <td>2715.887818</td>\n",
       "      <td>12321.0</td>\n",
       "      <td>892.404266</td>\n",
       "    </tr>\n",
       "    <tr>\n",
       "      <th>6</th>\n",
       "      <td>2771.176556</td>\n",
       "      <td>12756.0</td>\n",
       "      <td>955.920280</td>\n",
       "    </tr>\n",
       "    <tr>\n",
       "      <th>7</th>\n",
       "      <td>2390.870522</td>\n",
       "      <td>10611.0</td>\n",
       "      <td>928.781120</td>\n",
       "    </tr>\n",
       "    <tr>\n",
       "      <th>8</th>\n",
       "      <td>2792.413451</td>\n",
       "      <td>12811.0</td>\n",
       "      <td>960.909546</td>\n",
       "    </tr>\n",
       "    <tr>\n",
       "      <th>9</th>\n",
       "      <td>2171.313519</td>\n",
       "      <td>9898.0</td>\n",
       "      <td>846.121048</td>\n",
       "    </tr>\n",
       "    <tr>\n",
       "      <th>10</th>\n",
       "      <td>2792.117243</td>\n",
       "      <td>12736.0</td>\n",
       "      <td>975.534760</td>\n",
       "    </tr>\n",
       "    <tr>\n",
       "      <th>11</th>\n",
       "      <td>2187.775688</td>\n",
       "      <td>10024.0</td>\n",
       "      <td>853.670311</td>\n",
       "    </tr>\n",
       "    <tr>\n",
       "      <th>12</th>\n",
       "      <td>2398.368392</td>\n",
       "      <td>10949.0</td>\n",
       "      <td>928.693611</td>\n",
       "    </tr>\n",
       "    <tr>\n",
       "      <th>13</th>\n",
       "      <td>2652.814149</td>\n",
       "      <td>12181.0</td>\n",
       "      <td>877.919830</td>\n",
       "    </tr>\n",
       "    <tr>\n",
       "      <th>14</th>\n",
       "      <td>2185.862533</td>\n",
       "      <td>9776.0</td>\n",
       "      <td>803.026337</td>\n",
       "    </tr>\n",
       "    <tr>\n",
       "      <th>15</th>\n",
       "      <td>2814.694946</td>\n",
       "      <td>12925.0</td>\n",
       "      <td>951.378532</td>\n",
       "    </tr>\n",
       "    <tr>\n",
       "      <th>16</th>\n",
       "      <td>2422.513543</td>\n",
       "      <td>10869.0</td>\n",
       "      <td>922.354790</td>\n",
       "    </tr>\n",
       "    <tr>\n",
       "      <th>17</th>\n",
       "      <td>2365.445067</td>\n",
       "      <td>10576.0</td>\n",
       "      <td>922.025185</td>\n",
       "    </tr>\n",
       "    <tr>\n",
       "      <th>18</th>\n",
       "      <td>2494.628094</td>\n",
       "      <td>11218.0</td>\n",
       "      <td>924.019539</td>\n",
       "    </tr>\n",
       "    <tr>\n",
       "      <th>19</th>\n",
       "      <td>2108.262731</td>\n",
       "      <td>9736.0</td>\n",
       "      <td>878.564384</td>\n",
       "    </tr>\n",
       "    <tr>\n",
       "      <th>20</th>\n",
       "      <td>2012.303492</td>\n",
       "      <td>8803.0</td>\n",
       "      <td>734.837395</td>\n",
       "    </tr>\n",
       "    <tr>\n",
       "      <th>23</th>\n",
       "      <td>1893.875734</td>\n",
       "      <td>NaN</td>\n",
       "      <td>NaN</td>\n",
       "    </tr>\n",
       "    <tr>\n",
       "      <th>24</th>\n",
       "      <td>1892.646607</td>\n",
       "      <td>NaN</td>\n",
       "      <td>NaN</td>\n",
       "    </tr>\n",
       "    <tr>\n",
       "      <th>25</th>\n",
       "      <td>1876.049714</td>\n",
       "      <td>NaN</td>\n",
       "      <td>NaN</td>\n",
       "    </tr>\n",
       "    <tr>\n",
       "      <th>26</th>\n",
       "      <td>1745.211687</td>\n",
       "      <td>NaN</td>\n",
       "      <td>NaN</td>\n",
       "    </tr>\n",
       "    <tr>\n",
       "      <th>27</th>\n",
       "      <td>1756.152937</td>\n",
       "      <td>NaN</td>\n",
       "      <td>NaN</td>\n",
       "    </tr>\n",
       "    <tr>\n",
       "      <th>28</th>\n",
       "      <td>1778.583710</td>\n",
       "      <td>NaN</td>\n",
       "      <td>NaN</td>\n",
       "    </tr>\n",
       "    <tr>\n",
       "      <th>29</th>\n",
       "      <td>1781.804448</td>\n",
       "      <td>NaN</td>\n",
       "      <td>NaN</td>\n",
       "    </tr>\n",
       "    <tr>\n",
       "      <th>30</th>\n",
       "      <td>1745.819447</td>\n",
       "      <td>NaN</td>\n",
       "      <td>NaN</td>\n",
       "    </tr>\n",
       "    <tr>\n",
       "      <th>31</th>\n",
       "      <td>1806.845470</td>\n",
       "      <td>NaN</td>\n",
       "      <td>NaN</td>\n",
       "    </tr>\n",
       "    <tr>\n",
       "      <th>32</th>\n",
       "      <td>1793.910671</td>\n",
       "      <td>NaN</td>\n",
       "      <td>NaN</td>\n",
       "    </tr>\n",
       "    <tr>\n",
       "      <th>33</th>\n",
       "      <td>1743.773802</td>\n",
       "      <td>NaN</td>\n",
       "      <td>NaN</td>\n",
       "    </tr>\n",
       "    <tr>\n",
       "      <th>34</th>\n",
       "      <td>1744.690407</td>\n",
       "      <td>NaN</td>\n",
       "      <td>NaN</td>\n",
       "    </tr>\n",
       "    <tr>\n",
       "      <th>35</th>\n",
       "      <td>1759.054402</td>\n",
       "      <td>NaN</td>\n",
       "      <td>NaN</td>\n",
       "    </tr>\n",
       "    <tr>\n",
       "      <th>36</th>\n",
       "      <td>1985.073421</td>\n",
       "      <td>NaN</td>\n",
       "      <td>NaN</td>\n",
       "    </tr>\n",
       "    <tr>\n",
       "      <th>37</th>\n",
       "      <td>1703.957186</td>\n",
       "      <td>NaN</td>\n",
       "      <td>NaN</td>\n",
       "    </tr>\n",
       "    <tr>\n",
       "      <th>38</th>\n",
       "      <td>1632.594326</td>\n",
       "      <td>NaN</td>\n",
       "      <td>NaN</td>\n",
       "    </tr>\n",
       "    <tr>\n",
       "      <th>39</th>\n",
       "      <td>1848.524105</td>\n",
       "      <td>NaN</td>\n",
       "      <td>NaN</td>\n",
       "    </tr>\n",
       "    <tr>\n",
       "      <th>40</th>\n",
       "      <td>1832.214947</td>\n",
       "      <td>NaN</td>\n",
       "      <td>NaN</td>\n",
       "    </tr>\n",
       "    <tr>\n",
       "      <th>41</th>\n",
       "      <td>1845.003195</td>\n",
       "      <td>NaN</td>\n",
       "      <td>NaN</td>\n",
       "    </tr>\n",
       "    <tr>\n",
       "      <th>42</th>\n",
       "      <td>1542.511362</td>\n",
       "      <td>NaN</td>\n",
       "      <td>NaN</td>\n",
       "    </tr>\n",
       "    <tr>\n",
       "      <th>43</th>\n",
       "      <td>1868.089737</td>\n",
       "      <td>NaN</td>\n",
       "      <td>NaN</td>\n",
       "    </tr>\n",
       "    <tr>\n",
       "      <th>44</th>\n",
       "      <td>1708.789521</td>\n",
       "      <td>NaN</td>\n",
       "      <td>NaN</td>\n",
       "    </tr>\n",
       "    <tr>\n",
       "      <th>45</th>\n",
       "      <td>1560.246116</td>\n",
       "      <td>NaN</td>\n",
       "      <td>NaN</td>\n",
       "    </tr>\n",
       "    <tr>\n",
       "      <th>46</th>\n",
       "      <td>2079.749933</td>\n",
       "      <td>NaN</td>\n",
       "      <td>NaN</td>\n",
       "    </tr>\n",
       "    <tr>\n",
       "      <th>47</th>\n",
       "      <td>1678.393987</td>\n",
       "      <td>NaN</td>\n",
       "      <td>NaN</td>\n",
       "    </tr>\n",
       "    <tr>\n",
       "      <th>48</th>\n",
       "      <td>1713.204131</td>\n",
       "      <td>NaN</td>\n",
       "      <td>NaN</td>\n",
       "    </tr>\n",
       "    <tr>\n",
       "      <th>49</th>\n",
       "      <td>1700.683133</td>\n",
       "      <td>NaN</td>\n",
       "      <td>NaN</td>\n",
       "    </tr>\n",
       "    <tr>\n",
       "      <th>50</th>\n",
       "      <td>1674.989260</td>\n",
       "      <td>NaN</td>\n",
       "      <td>NaN</td>\n",
       "    </tr>\n",
       "  </tbody>\n",
       "</table>\n",
       "</div>"
      ],
      "text/plain": [
       "    Data Graph (Disk)  Spark Memory  VHI Memory\n",
       "0         2405.307897       10820.0  915.613098\n",
       "1         2306.354592       10462.0  863.868080\n",
       "2         2790.347591       12831.0  963.562164\n",
       "3         2722.321526       12454.0  959.856270\n",
       "4         2383.698988       10772.0  919.239342\n",
       "5         2715.887818       12321.0  892.404266\n",
       "6         2771.176556       12756.0  955.920280\n",
       "7         2390.870522       10611.0  928.781120\n",
       "8         2792.413451       12811.0  960.909546\n",
       "9         2171.313519        9898.0  846.121048\n",
       "10        2792.117243       12736.0  975.534760\n",
       "11        2187.775688       10024.0  853.670311\n",
       "12        2398.368392       10949.0  928.693611\n",
       "13        2652.814149       12181.0  877.919830\n",
       "14        2185.862533        9776.0  803.026337\n",
       "15        2814.694946       12925.0  951.378532\n",
       "16        2422.513543       10869.0  922.354790\n",
       "17        2365.445067       10576.0  922.025185\n",
       "18        2494.628094       11218.0  924.019539\n",
       "19        2108.262731        9736.0  878.564384\n",
       "20        2012.303492        8803.0  734.837395\n",
       "23        1893.875734           NaN         NaN\n",
       "24        1892.646607           NaN         NaN\n",
       "25        1876.049714           NaN         NaN\n",
       "26        1745.211687           NaN         NaN\n",
       "27        1756.152937           NaN         NaN\n",
       "28        1778.583710           NaN         NaN\n",
       "29        1781.804448           NaN         NaN\n",
       "30        1745.819447           NaN         NaN\n",
       "31        1806.845470           NaN         NaN\n",
       "32        1793.910671           NaN         NaN\n",
       "33        1743.773802           NaN         NaN\n",
       "34        1744.690407           NaN         NaN\n",
       "35        1759.054402           NaN         NaN\n",
       "36        1985.073421           NaN         NaN\n",
       "37        1703.957186           NaN         NaN\n",
       "38        1632.594326           NaN         NaN\n",
       "39        1848.524105           NaN         NaN\n",
       "40        1832.214947           NaN         NaN\n",
       "41        1845.003195           NaN         NaN\n",
       "42        1542.511362           NaN         NaN\n",
       "43        1868.089737           NaN         NaN\n",
       "44        1708.789521           NaN         NaN\n",
       "45        1560.246116           NaN         NaN\n",
       "46        2079.749933           NaN         NaN\n",
       "47        1678.393987           NaN         NaN\n",
       "48        1713.204131           NaN         NaN\n",
       "49        1700.683133           NaN         NaN\n",
       "50        1674.989260           NaN         NaN"
      ]
     },
     "execution_count": 483,
     "metadata": {},
     "output_type": "execute_result"
    }
   ],
   "source": []
  },
  {
   "cell_type": "code",
   "execution_count": 487,
   "metadata": {},
   "outputs": [
    {
     "data": {
      "image/png": "[encoded data removed]",
      "text/plain": [
       "<Figure size 432x288 with 1 Axes>"
      ]
     },
     "metadata": {
      "needs_background": "light"
     },
     "output_type": "display_data"
    }
   ],
   "source": []
  },
  {
   "cell_type": "code",
   "execution_count": 335,
   "metadata": {},
   "outputs": [
    {
     "name": "stdout",
     "output_type": "stream",
     "text": [
      "MAX: 0    11566501\n",
      "dtype: int64\n",
      "MIN: 0    6145732\n",
      "dtype: int64\n"
     ]
    },
    {
     "data": {
      "text/html": [
       "<div>\n",
       "<style scoped>\n",
       "    .dataframe tbody tr th:only-of-type {\n",
       "        vertical-align: middle;\n",
       "    }\n",
       "\n",
       "    .dataframe tbody tr th {\n",
       "        vertical-align: top;\n",
       "    }\n",
       "\n",
       "    .dataframe thead th {\n",
       "        text-align: right;\n",
       "    }\n",
       "</style>\n",
       "<table border=\"1\" class=\"dataframe\">\n",
       "  <thead>\n",
       "    <tr style=\"text-align: right;\">\n",
       "      <th></th>\n",
       "      <th>0</th>\n",
       "    </tr>\n",
       "  </thead>\n",
       "  <tbody>\n",
       "    <tr>\n",
       "      <th>0</th>\n",
       "      <td>9653266</td>\n",
       "    </tr>\n",
       "    <tr>\n",
       "      <th>1</th>\n",
       "      <td>9220298</td>\n",
       "    </tr>\n",
       "    <tr>\n",
       "      <th>2</th>\n",
       "      <td>11517193</td>\n",
       "    </tr>\n",
       "    <tr>\n",
       "      <th>3</th>\n",
       "      <td>11273950</td>\n",
       "    </tr>\n",
       "    <tr>\n",
       "      <th>4</th>\n",
       "      <td>9465024</td>\n",
       "    </tr>\n",
       "  </tbody>\n",
       "</table>\n",
       "</div>"
      ],
      "text/plain": [
       "          0\n",
       "0   9653266\n",
       "1   9220298\n",
       "2  11517193\n",
       "3  11273950\n",
       "4   9465024"
      ]
     },
     "metadata": {},
     "output_type": "display_data"
    },
    {
     "data": {
      "text/plain": [
       "<matplotlib.legend.Legend at 0x7f2095aed2e8>"
      ]
     },
     "execution_count": 335,
     "metadata": {},
     "output_type": "execute_result"
    }
   ],
   "source": [
    "#ax.set_ylabel(\"Quantity\")\n",
    "#ax.yaxis.set_label_coords(-0.015,1.0)\n",
    "#plt.xticks(np.arange(0, 50, 5.0))\n",
    "print(\"MAX: \" + str(edgeframe.max()))\n",
    "print(\"MIN: \" + str(edgeframe.min()))\n",
    "display(edgeframe.head())\n",
    "\n",
    "ax.legend(loc='upper center', bbox_to_anchor=(0.5, 1.15), shadow=True, ncol=4)"
   ]
  },
  {
   "cell_type": "code",
   "execution_count": 300,
   "metadata": {},
   "outputs": [
    {
     "data": {
      "text/plain": [
       "Iteration\n",
       "0     10047.142857\n",
       "1     10430.296970\n",
       "2     11761.750000\n",
       "3     11564.428571\n",
       "4     10728.388664\n",
       "5     12313.366171\n",
       "6     12428.923077\n",
       "7      9903.600000\n",
       "8     12057.411765\n",
       "9      9873.255000\n",
       "10    12028.444444\n",
       "Name: Memory Mean, dtype: float64"
      ]
     },
     "execution_count": 300,
     "metadata": {},
     "output_type": "execute_result"
    }
   ],
   "source": [
    "test1[metric]"
   ]
  },
  {
   "cell_type": "code",
   "execution_count": null,
   "metadata": {},
   "outputs": [],
   "source": []
  }
 ],
 "metadata": {
  "kernelspec": {
   "display_name": "Python 3",
   "language": "python",
   "name": "python3"
  },
  "language_info": {
   "codemirror_mode": {
    "name": "ipython",
    "version": 3
   },
   "file_extension": ".py",
   "mimetype": "text/x-python",
   "name": "python",
   "nbconvert_exporter": "python",
   "pygments_lexer": "ipython3",
   "version": "3.8.6"
  }
 },
 "nbformat": 4,
 "nbformat_minor": 4
}
