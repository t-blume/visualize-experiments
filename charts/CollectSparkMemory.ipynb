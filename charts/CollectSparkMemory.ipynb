{
 "cells": [
  {
   "cell_type": "code",
   "execution_count": 1,
   "metadata": {},
   "outputs": [],
   "source": [
    "#!/usr/bin/python\n",
    "\n",
    "import json\n",
    "import sys\n",
    "from operator import itemgetter\n",
    "from os import listdir\n",
    "from os.path import isfile, join, isdir\n",
    "import pandas as pd"
   ]
  },
  {
   "cell_type": "code",
   "execution_count": null,
   "metadata": {},
   "outputs": [],
   "source": []
  },
  {
   "cell_type": "code",
   "execution_count": null,
   "metadata": {},
   "outputs": [],
   "source": []
  },
  {
   "cell_type": "code",
   "execution_count": null,
   "metadata": {},
   "outputs": [],
   "source": []
  },
  {
   "cell_type": "code",
   "execution_count": null,
   "metadata": {},
   "outputs": [],
   "source": []
  },
  {
   "cell_type": "code",
   "execution_count": null,
   "metadata": {},
   "outputs": [],
   "source": []
  },
  {
   "cell_type": "code",
   "execution_count": null,
   "metadata": {},
   "outputs": [],
   "source": []
  },
  {
   "cell_type": "code",
   "execution_count": null,
   "metadata": {},
   "outputs": [],
   "source": []
  },
  {
   "cell_type": "code",
   "execution_count": 2,
   "metadata": {},
   "outputs": [],
   "source": [
    "def collectStatistics(analyze_app, event_dir='/tmp/spark-events', memory_dir='/tmp/spark-memory'):   \n",
    "    captions = [\"Iteration\",\n",
    "                \"Incremental Start\",\n",
    "                \"Incremental End\",\n",
    "                \"Incremental Duration\",\n",
    "                \"Batch Start\",\n",
    "                \"Batch End\",\n",
    "                \"Batch Duration\", 'Memory Min (bytes)', 'Memory Max (bytes)', 'Memory Mean (bytes)']\n",
    "\n",
    "    data_frame = pd.DataFrame(columns=captions)\n",
    "    data_frame.set_index('Iteration')\n",
    "\n",
    "    onlyfiles = [f for f in listdir(event_dir) if isfile(join(event_dir, f))]\n",
    "\n",
    "    for file in onlyfiles:\n",
    "        with open(join(event_dir, file)) as f:\n",
    "            \n",
    "            content = f.readlines()\n",
    "            batch_computation = False\n",
    "            iteration_number = -1\n",
    "            for line in content:\n",
    "                event = json.loads(line)\n",
    "\n",
    "                if event['Event'] == 'SparkListenerEnvironmentUpdate':\n",
    "                    app_name = event['Spark Properties']['spark.app.name']\n",
    "                    if app_name.startswith(analyze_app):\n",
    "                        version = app_name.replace(analyze_app, '')\n",
    "                        if not version:\n",
    "                            version = '0'\n",
    "                        if '_batch_' in version:\n",
    "                            batch_computation = True\n",
    "                            iteration_number = int(version.replace('_batch_', ''))\n",
    "                            if data_frame.loc[data_frame['Iteration'] == iteration_number].empty:\n",
    "                                data_frame.loc[len(data_frame)] = iteration_number\n",
    "\n",
    "                        else:\n",
    "                            batch_computation = False\n",
    "                            iteration_number = int(version)\n",
    "                            if data_frame.loc[data_frame['Iteration'] == iteration_number].empty:\n",
    "                                data_frame.loc[len(data_frame)] = iteration_number\n",
    "\n",
    "\n",
    "\n",
    "\n",
    "                if event['Event'] == 'SparkListenerJobStart':\n",
    "                    start = event['Submission Time']\n",
    "                    caption = 'Incremental Start'\n",
    "                    if batch_computation:\n",
    "                        caption = 'Batch Start'\n",
    "\n",
    "                    data_frame.loc[data_frame['Iteration'] == iteration_number, caption] = start\n",
    "\n",
    "                if event['Event'] == 'SparkListenerJobEnd':\n",
    "                    end = event['Completion Time']\n",
    "                    caption = 'Incremental End'\n",
    "                    if batch_computation:\n",
    "                        caption = 'Batch End'\n",
    "                    data_frame.loc[data_frame['Iteration'] == iteration_number, caption] = end\n",
    "                    \n",
    "            if isdir(memory_dir):\n",
    "                mem_df = pd.read_csv(join(memory_dir, file + '.driver.jvm.heap.used.csv'))\n",
    "                data_frame.loc[data_frame['Iteration'] == iteration_number, 'Memory Min (bytes)'] = mem_df['value'].min()\n",
    "                data_frame.loc[data_frame['Iteration'] == iteration_number, 'Memory Max (bytes)'] = mem_df['value'].max()\n",
    "                data_frame.loc[data_frame['Iteration'] == iteration_number, 'Memory Mean (bytes)'] = mem_df['value'].mean()\n",
    "\n",
    "\n",
    "    data_frame['Incremental Duration'] = data_frame['Incremental End'] - data_frame['Incremental Start']\n",
    "    data_frame['Batch Duration'] = data_frame['Batch End'] - data_frame['Batch Start']\n",
    "\n",
    "    data_frame = data_frame.sort_values(['Iteration'], ascending=[True])\n",
    "    return data_frame\n",
    "\n",
    "\n"
   ]
  },
  {
   "cell_type": "code",
   "execution_count": 3,
   "metadata": {},
   "outputs": [
    {
     "ename": "FileNotFoundError",
     "evalue": "[Errno 2] No such file or directory: '/tmp/spark-events'",
     "output_type": "error",
     "traceback": [
      "\u001b[0;31m---------------------------------------------------------------------------\u001b[0m",
      "\u001b[0;31mFileNotFoundError\u001b[0m                         Traceback (most recent call last)",
      "\u001b[0;32m<ipython-input-3-310f1665782f>\u001b[0m in \u001b[0;36m<module>\u001b[0;34m\u001b[0m\n\u001b[1;32m      5\u001b[0m \u001b[0;34m\u001b[0m\u001b[0m\n\u001b[1;32m      6\u001b[0m \u001b[0mapp_name\u001b[0m \u001b[0;34m=\u001b[0m \u001b[0;34m'SchemEX-Manual-Test0'\u001b[0m\u001b[0;34m\u001b[0m\u001b[0;34m\u001b[0m\u001b[0m\n\u001b[0;32m----> 7\u001b[0;31m \u001b[0mres_frame\u001b[0m \u001b[0;34m=\u001b[0m \u001b[0mcollectStatistics\u001b[0m\u001b[0;34m(\u001b[0m\u001b[0mapp_name\u001b[0m\u001b[0;34m)\u001b[0m\u001b[0;34m\u001b[0m\u001b[0;34m\u001b[0m\u001b[0m\n\u001b[0m\u001b[1;32m      8\u001b[0m \u001b[0;34m\u001b[0m\u001b[0m\n\u001b[1;32m      9\u001b[0m \u001b[0mdisplay\u001b[0m\u001b[0;34m(\u001b[0m\u001b[0mres_frame\u001b[0m\u001b[0;34m)\u001b[0m\u001b[0;34m\u001b[0m\u001b[0;34m\u001b[0m\u001b[0m\n",
      "\u001b[0;32m<ipython-input-2-a00dc6177573>\u001b[0m in \u001b[0;36mcollectStatistics\u001b[0;34m(analyze_app, event_dir, memory_dir)\u001b[0m\n\u001b[1;32m     11\u001b[0m     \u001b[0mdata_frame\u001b[0m\u001b[0;34m.\u001b[0m\u001b[0mset_index\u001b[0m\u001b[0;34m(\u001b[0m\u001b[0;34m'Iteration'\u001b[0m\u001b[0;34m)\u001b[0m\u001b[0;34m\u001b[0m\u001b[0;34m\u001b[0m\u001b[0m\n\u001b[1;32m     12\u001b[0m \u001b[0;34m\u001b[0m\u001b[0m\n\u001b[0;32m---> 13\u001b[0;31m     \u001b[0monlyfiles\u001b[0m \u001b[0;34m=\u001b[0m \u001b[0;34m[\u001b[0m\u001b[0mf\u001b[0m \u001b[0;32mfor\u001b[0m \u001b[0mf\u001b[0m \u001b[0;32min\u001b[0m \u001b[0mlistdir\u001b[0m\u001b[0;34m(\u001b[0m\u001b[0mevent_dir\u001b[0m\u001b[0;34m)\u001b[0m \u001b[0;32mif\u001b[0m \u001b[0misfile\u001b[0m\u001b[0;34m(\u001b[0m\u001b[0mjoin\u001b[0m\u001b[0;34m(\u001b[0m\u001b[0mevent_dir\u001b[0m\u001b[0;34m,\u001b[0m \u001b[0mf\u001b[0m\u001b[0;34m)\u001b[0m\u001b[0;34m)\u001b[0m\u001b[0;34m]\u001b[0m\u001b[0;34m\u001b[0m\u001b[0;34m\u001b[0m\u001b[0m\n\u001b[0m\u001b[1;32m     14\u001b[0m \u001b[0;34m\u001b[0m\u001b[0m\n\u001b[1;32m     15\u001b[0m     \u001b[0;32mfor\u001b[0m \u001b[0mfile\u001b[0m \u001b[0;32min\u001b[0m \u001b[0monlyfiles\u001b[0m\u001b[0;34m:\u001b[0m\u001b[0;34m\u001b[0m\u001b[0;34m\u001b[0m\u001b[0m\n",
      "\u001b[0;31mFileNotFoundError\u001b[0m: [Errno 2] No such file or directory: '/tmp/spark-events'"
     ]
    }
   ],
   "source": [
    "memory_dir = '/tmp/spark-memory'\n",
    "event_dir = '/tmp/spark-events/'\n",
    "\n",
    "app_id = 'local-1607283405250'\n",
    "\n",
    "app_name = 'SchemEX-Manual-Test0'\n",
    "res_frame = collectStatistics(app_name)\n",
    "\n",
    "display(res_frame)\n",
    "\n"
   ]
  },
  {
   "cell_type": "code",
   "execution_count": null,
   "metadata": {},
   "outputs": [],
   "source": [
    "if not isdir('experiments/' + app_name):\n",
    "    makedirs('experiments/' + app_name)\n",
    "\n",
    "data_frame.to_csv('experiments/' + app_name + '/' + app_name + '-performance.csv', index=False)\n",
    "print(\"Collected statistics for \" + app_name)"
   ]
  }
 ],
 "metadata": {
  "kernelspec": {
   "display_name": "Python 3",
   "language": "python",
   "name": "python3"
  },
  "language_info": {
   "codemirror_mode": {
    "name": "ipython",
    "version": 3
   },
   "file_extension": ".py",
   "mimetype": "text/x-python",
   "name": "python",
   "nbconvert_exporter": "python",
   "pygments_lexer": "ipython3",
   "version": "3.8.6"
  }
 },
 "nbformat": 4,
 "nbformat_minor": 4
}
