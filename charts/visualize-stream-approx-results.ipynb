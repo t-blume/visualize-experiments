{
 "cells": [
  {
   "cell_type": "code",
   "execution_count": null,
   "metadata": {
    "scrolled": true
   },
   "outputs": [],
   "source": [
    "import json\n",
    "import os\n",
    "import pickle\n",
    "import gzip\n",
    "import pandas as pd\n",
    "import matplotlib.pyplot as plt\n",
    "import matplotlib\n",
    "import tabulate\n",
    "from tqdm import tqdm_notebook as tqdm\n",
    "\n",
    "import numpy as np\n",
    "from itertools import cycle, islice\n"
   ]
  },
  {
   "cell_type": "code",
   "execution_count": null,
   "metadata": {
    "scrolled": true
   },
   "outputs": [],
   "source": [
    "fig_width = 6\n",
    "fig_height = 5\n",
    "\n",
    "params = {\n",
    "    'axes.labelsize': 12, # fontsize for x and y labels (was 10)\n",
    "    'axes.titlesize': 12,\n",
    "    #'text.fontsize': 8, # was 10\n",
    "    'legend.fontsize': 12, # was 10\n",
    "    'xtick.labelsize': 12,\n",
    "    'ytick.labelsize': 12,\n",
    "    'text.usetex': False,\n",
    "    'figure.figsize': [fig_width,fig_height],\n",
    "    'font.family': 'serif',\n",
    "    'grid.linestyle': '--',\n",
    "}\n",
    "\n",
    "matplotlib.rcParams.update(params)"
   ]
  },
  {
   "cell_type": "code",
   "execution_count": null,
   "metadata": {
    "scrolled": true
   },
   "outputs": [],
   "source": [
    "data_dir = 'priv_data'\n",
    "datasets =  ['timbl','dyldo']\n",
    "bisimDepths = [0,1,2]\n",
    "suffix = ''\n",
    "\n",
    "model_dtype = pd.api.types.CategoricalDtype(categories=['Characteristic Sets', 'W-Property Clique',\n",
    "                                                     'SemSets', 'SchemEX', 'TermPicker', 'SchemEX+U+oI',\n",
    "                                                     'SchemEX+U+pI'], ordered=True)\n",
    "\n",
    "# model_dtype = pd.api.types.CategoricalDtype(categories=['Model-A', 'Model-B',\n",
    "#                                                     'Model-C', 'Model-D', 'Model-E', 'Model-F',\n",
    "#                                                     'Model-G'], ordered=True)\n",
    "\n",
    "config_dtype = pd.api.types.CategoricalDtype(categories=['SQ - 1k', 'SQ - 100k', 'SQ - 200k', 'CQ - 1k', 'CQ - 100k', 'SchemEX+U+oI',\n",
    "                                                     'CQ - 200k'], ordered=True)\n"
   ]
  },
  {
   "cell_type": "code",
   "execution_count": null,
   "metadata": {
    "scrolled": false
   },
   "outputs": [],
   "source": [
    "for dataset in datasets:\n",
    "    for bisimK in bisimDepths:    \n",
    "        # Load dataframe from CSV\n",
    "        with open(os.path.join(data_dir, dataset +suffix + '.csv'), 'r') as f:\n",
    "            df = pd.read_csv(f)\n",
    "        df.head()\n",
    "        # fig, ax = plt.subplots(figsize=(15,7))\n",
    "        kf = df[df['k'] == bisimK]\n",
    "        print(kf)\n",
    "        kf['model'] = kf['model'].astype(model_dtype)\n",
    "        kf['config'] = kf['config'].astype(config_dtype)\n",
    "        ddf = kf.set_index(['model', 'config'])['f1']\n",
    "        print(ddf)\n",
    "        \n",
    "        print('>>>>>>----------------')\n",
    "\n",
    "        pdf = ddf.unstack()\n",
    "        print(pdf)\n",
    "        pdf = pdf.sort_values(by=['model'], axis=0, ascending=True)\n",
    "        \n",
    "        \n",
    "        if bisimK != 0:\n",
    "            plt.rcParams['figure.figsize'] = [fig_width,4]\n",
    "        else:\n",
    "            plt.rcParams['figure.figsize'] = [fig_width,5]\n",
    "            \n",
    "        ax = pdf.plot(kind='bar', color=['lightblue', 'c', 'b', 'rosybrown', 'firebrick', 'red'], width=.75, rot=45)\n",
    "        ax.set_ylim([0,1])\n",
    "        # ax.legend(plot_methods.values())\n",
    "        # ax.set_xticklabels([f'({int(i.left)}, {int(i.right)}]' for i in bins.cat.categories])\n",
    "        ax.set_xlabel(\"\")\n",
    "        ax.set_ylabel(\"\")\n",
    "        ax.legend(loc='upper center', bbox_to_anchor=(0.5, 1.4), shadow=True, ncol=3)\n",
    "        \n",
    "        if bisimK != 0:\n",
    "            ax.get_legend().remove()\n",
    "        \n",
    " \n",
    "        plt.tight_layout()\n",
    "        plt.grid()\n",
    "        plt.savefig(dataset + '-'+ str(bisimK) + 'approx.pdf', bbox_inches='tight', format='pdf')"
   ]
  },
  {
   "cell_type": "code",
   "execution_count": null,
   "metadata": {
    "scrolled": true
   },
   "outputs": [],
   "source": []
  }
 ],
 "metadata": {
  "kernelspec": {
   "display_name": "Python 3",
   "language": "python",
   "name": "python3"
  },
  "language_info": {
   "codemirror_mode": {
    "name": "ipython",
    "version": 3
   },
   "file_extension": ".py",
   "mimetype": "text/x-python",
   "name": "python",
   "nbconvert_exporter": "python",
   "pygments_lexer": "ipython3",
   "version": "3.8.6"
  }
 },
 "nbformat": 4,
 "nbformat_minor": 2
}
